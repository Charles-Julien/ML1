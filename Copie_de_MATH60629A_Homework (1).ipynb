{
  "nbformat": 4,
  "nbformat_minor": 0,
  "metadata": {
    "colab": {
      "provenance": [],
      "toc_visible": true
    },
    "kernelspec": {
      "name": "python3",
      "display_name": "Python 3"
    },
    "language_info": {
      "name": "python"
    }
  },
  "cells": [
    {
      "cell_type": "markdown",
      "source": [
        "Due date: **October 24, 2023**"
      ],
      "metadata": {
        "id": "ZMzxzgszc1T8"
      }
    },
    {
      "cell_type": "markdown",
      "source": [
        "# Instructions:\n",
        "- The homework is due by 11:59PM EST on the due date. Please upload a PDF\n",
        "version of your assignment on ZoneCours.\n",
        "- The homework is worth 20% of the course’s final grade.\n",
        "- Assignments are to be done individually."
      ],
      "metadata": {
        "id": "3S2tSYA_dDRT"
      }
    },
    {
      "cell_type": "markdown",
      "source": [
        "- Please provide your code answers in the code block under each question and verbal answers in text boxes assigned in the notebook (where applicable).\n",
        "- Please run the notebook before the submission so that the outputs are displayed.\n",
        "- Please make sure that your results are reproducible. You may use random seeds from `random` and `numpy` packages. For `scikit-learn` modules, you may use the `random_state` argument."
      ],
      "metadata": {
        "id": "W4enGh0mWFYj"
      }
    },
    {
      "cell_type": "code",
      "source": [
        "# enter you full name and HEC ID\n",
        "full_name = \"Charles Julien\"\n",
        "HEC_ID = \"11289334\""
      ],
      "metadata": {
        "id": "pHTrFoJPc_DV"
      },
      "execution_count": null,
      "outputs": []
    },
    {
      "cell_type": "markdown",
      "source": [
        "# Classification **(7pt)**\n",
        "We will use a synthetic dataset. It is available [here](https://github.com/davoodwadi/MATH60629A.A2023-MACHINE-LEARNING-I/raw/main/data/a22_devoir_q2-classification.npz).\n",
        "\n",
        "Once the data are accessible from your current working directory, you can\n",
        "load them using the following code:\n",
        "\n",
        "`data = np.load(\"a22_devoir_q2-classification.npz\")`\n",
        "\n",
        "`X = data[\"X\"]`\n",
        "\n",
        "`y = data[\"y\"]`"
      ],
      "metadata": {
        "id": "yL_P_eRlWvI0"
      }
    },
    {
      "cell_type": "code",
      "source": [
        "# download and load the data\n",
        "!wget -P /content https://github.com/davoodwadi/MATH60629A.A2023-MACHINE-LEARNING-I/raw/main/data/a22_devoir_q2-classification.npz\n",
        "\n",
        "import numpy as np\n",
        "data = np.load('a22_devoir_q2-classification.npz')\n",
        "X = data[\"X\"]\n",
        "y = data[\"y\"]"
      ],
      "metadata": {
        "id": "2b3YoSN-iEEw",
        "colab": {
          "base_uri": "https://localhost:8080/"
        },
        "outputId": "f1c1166d-d649-4dee-f398-462a77b30a5b"
      },
      "execution_count": null,
      "outputs": [
        {
          "output_type": "stream",
          "name": "stdout",
          "text": [
            "--2023-10-24 20:07:58--  https://github.com/davoodwadi/MATH60629A.A2023-MACHINE-LEARNING-I/raw/main/data/a22_devoir_q2-classification.npz\n",
            "Resolving github.com (github.com)... 140.82.121.4\n",
            "Connecting to github.com (github.com)|140.82.121.4|:443... connected.\n",
            "HTTP request sent, awaiting response... 302 Found\n",
            "Location: https://raw.githubusercontent.com/davoodwadi/MATH60629A.A2023-MACHINE-LEARNING-I/main/data/a22_devoir_q2-classification.npz [following]\n",
            "--2023-10-24 20:07:58--  https://raw.githubusercontent.com/davoodwadi/MATH60629A.A2023-MACHINE-LEARNING-I/main/data/a22_devoir_q2-classification.npz\n",
            "Resolving raw.githubusercontent.com (raw.githubusercontent.com)... 185.199.108.133, 185.199.109.133, 185.199.110.133, ...\n",
            "Connecting to raw.githubusercontent.com (raw.githubusercontent.com)|185.199.108.133|:443... connected.\n",
            "HTTP request sent, awaiting response... 200 OK\n",
            "Length: 2890 (2.8K) [application/octet-stream]\n",
            "Saving to: ‘/content/a22_devoir_q2-classification.npz’\n",
            "\n",
            "a22_devoir_q2-class 100%[===================>]   2.82K  --.-KB/s    in 0s      \n",
            "\n",
            "2023-10-24 20:07:58 (41.2 MB/s) - ‘/content/a22_devoir_q2-classification.npz’ saved [2890/2890]\n",
            "\n"
          ]
        }
      ]
    },
    {
      "cell_type": "markdown",
      "source": [
        "**Exploratory Data Analysis**"
      ],
      "metadata": {
        "id": "ilYIOZaUDl4c"
      }
    },
    {
      "cell_type": "code",
      "source": [
        "X.shape"
      ],
      "metadata": {
        "colab": {
          "base_uri": "https://localhost:8080/"
        },
        "id": "oKs5YMugwsy_",
        "outputId": "cc347f7c-8a44-4dc5-aea4-75043ec6130e"
      },
      "execution_count": null,
      "outputs": [
        {
          "output_type": "execute_result",
          "data": {
            "text/plain": [
              "(100, 2)"
            ]
          },
          "metadata": {},
          "execution_count": 3
        }
      ]
    },
    {
      "cell_type": "markdown",
      "source": [
        "[texte du lien](https://)1. (**0.5pt**) Plot the features, X, and color each datum based on its class. (*Hint:* You may use the `hue` argument in the `seaborn` package.)\n"
      ],
      "metadata": {
        "id": "mKm66VTy3W-1"
      }
    },
    {
      "cell_type": "code",
      "source": [
        "import seaborn as sns\n",
        "import matplotlib.pyplot as plt\n",
        "\n",
        "sns.scatterplot(data=X, x=X[:, 0], y=X[:, 1], hue=y)\n",
        "plt.show()"
      ],
      "metadata": {
        "id": "f4smPPN32mJJ",
        "colab": {
          "base_uri": "https://localhost:8080/",
          "height": 430
        },
        "outputId": "3dc1638c-27f0-47e6-bab8-a7e7d9f6c82a"
      },
      "execution_count": null,
      "outputs": [
        {
          "output_type": "display_data",
          "data": {
            "text/plain": [
              "<Figure size 640x480 with 1 Axes>"
            ],
            "image/png": "[encoded data removed]"
          },
          "metadata": {}
        }
      ]
    },
    {
      "cell_type": "markdown",
      "source": [
        "2. (**0.5pt**) Based on the plot, is a classifier with a linear margin a good choice for this classification task?"
      ],
      "metadata": {
        "id": "rsUzCQ544KGc"
      }
    },
    {
      "cell_type": "markdown",
      "source": [
        "**answer**\n",
        "\n",
        "Yes the data points could be well seperated with a linear margin although not perfectly.\n"
      ],
      "metadata": {
        "id": "uZcoYpsZ4LED"
      }
    },
    {
      "cell_type": "markdown",
      "source": [
        "**3. (1pt) Split you data into *training*, *validation*, and *test* sets.**\n",
        "- Use 60% of the data for training, 20% for validation, and 20% for testing\n",
        "- If using `train_test_split` function from `scikit-learn`, use `random state=1234`"
      ],
      "metadata": {
        "id": "M41BO96AjejV"
      }
    },
    {
      "cell_type": "code",
      "source": [
        "from sklearn.model_selection import train_test_split\n",
        "\n",
        "X_train, X_test, y_train, y_test = train_test_split(X, y, test_size=0.2, random_state=1234)\n",
        "X_train, X_val, y_train, y_val = train_test_split(X_train, y_train, test_size=0.25, random_state=1234)"
      ],
      "metadata": {
        "id": "91Rsi17TjNXU"
      },
      "execution_count": null,
      "outputs": []
    },
    {
      "cell_type": "markdown",
      "source": [
        "4. **(1pt)** Explore the distribution of the classes in the entire dataset, training set, validation set, and test set."
      ],
      "metadata": {
        "id": "xldQjrD9mVEM"
      }
    },
    {
      "cell_type": "code",
      "source": [
        "# distribution of the entire dataset\n",
        "sns.countplot(x=y)\n",
        "plt.show()"
      ],
      "metadata": {
        "id": "Gj7zh2n1otn5",
        "colab": {
          "base_uri": "https://localhost:8080/",
          "height": 430
        },
        "outputId": "2d293773-5ad2-4950-eda0-5a4409430ed5"
      },
      "execution_count": null,
      "outputs": [
        {
          "output_type": "display_data",
          "data": {
            "text/plain": [
              "<Figure size 640x480 with 1 Axes>"
            ],
            "image/png": "[encoded data removed]"
          },
          "metadata": {}
        }
      ]
    },
    {
      "cell_type": "code",
      "source": [
        "# distribution of the training set\n",
        "sns.countplot(x=y_train)\n",
        "plt.show()"
      ],
      "metadata": {
        "id": "peIbGo7CntRI",
        "colab": {
          "base_uri": "https://localhost:8080/",
          "height": 430
        },
        "outputId": "a32e9821-8a88-4311-d67e-b4b5e27cb962"
      },
      "execution_count": null,
      "outputs": [
        {
          "output_type": "display_data",
          "data": {
            "text/plain": [
              "<Figure size 640x480 with 1 Axes>"
            ],
            "image/png": "[encoded data removed]"
          },
          "metadata": {}
        }
      ]
    },
    {
      "cell_type": "code",
      "source": [
        "# distribution of the validation set\n",
        "sns.countplot(x=y_val)\n",
        "plt.show()"
      ],
      "metadata": {
        "id": "N0lUXiafoAPP",
        "colab": {
          "base_uri": "https://localhost:8080/",
          "height": 430
        },
        "outputId": "fcbf64c5-e66a-414a-beaf-dc47853111c4"
      },
      "execution_count": null,
      "outputs": [
        {
          "output_type": "display_data",
          "data": {
            "text/plain": [
              "<Figure size 640x480 with 1 Axes>"
            ],
            "image/png": "[encoded data removed]"
          },
          "metadata": {}
        }
      ]
    },
    {
      "cell_type": "code",
      "source": [
        "# distribution of the test set\n",
        "sns.countplot(x=y_test)\n",
        "plt.show()"
      ],
      "metadata": {
        "id": "s1GU0sA1ntOP",
        "colab": {
          "base_uri": "https://localhost:8080/",
          "height": 430
        },
        "outputId": "1fd4bedd-1841-41af-a1a1-1d949af8ffdc"
      },
      "execution_count": null,
      "outputs": [
        {
          "output_type": "display_data",
          "data": {
            "text/plain": [
              "<Figure size 640x480 with 1 Axes>"
            ],
            "image/png": "[encoded data removed]"
          },
          "metadata": {}
        }
      ]
    },
    {
      "cell_type": "markdown",
      "source": [
        "5. **(0.5pt)** Is each subset balanced?\n"
      ],
      "metadata": {
        "id": "c3CkuMXhm62Q"
      }
    },
    {
      "cell_type": "markdown",
      "source": [
        "**answer**\n",
        "\n",
        "No they are not. The entire dataset is balanced betweem the three classes, however, the trainning has an over representation of class 0 while the test set has an under representation of class 0. The oppposite effect is observed with class 2."
      ],
      "metadata": {
        "id": "YrvH8dDeFL3B"
      }
    },
    {
      "cell_type": "markdown",
      "source": [
        "6. **(0.5pt)** How can the imbalance of each subset affect prediction accuracy?"
      ],
      "metadata": {
        "id": "AP0nGTIXFQWv"
      }
    },
    {
      "cell_type": "markdown",
      "source": [
        "**answer**\n",
        "\n",
        "The imbalance will most probably decrease the accuracy of the model. The model will be more inclined to predict class 0 since it is the most prominant class in the trainning set. However, when we will test for the generalization of the model, the performance will be bad since class 0 is under represented. If we do not use stratification in our split, then the performance of the model will vary significantly depending on how the data is split into training and testing datasets. This is not desirable since we want our model to be as stable as possible."
      ],
      "metadata": {
        "id": "PCSsSLdB1dqS"
      }
    },
    {
      "cell_type": "markdown",
      "source": [
        "7. **0.5** If the training/validation/test sets are not balanced, adjust your code to recreate balanced training/validation/test sets.\n",
        "\n",
        "*Hint:* You may use the `stratify` argument in the `train_test_split` function to help with the balance of the splits."
      ],
      "metadata": {
        "id": "DeSwz_hn00gB"
      }
    },
    {
      "cell_type": "code",
      "source": [
        "X_train, X_test, y_train, y_test = train_test_split(X, y, test_size=0.2, random_state=1234, stratify=y)\n",
        "X_train, X_val, y_train, y_val = train_test_split(X_train, y_train, test_size=0.25, random_state=1234, stratify=y_train)"
      ],
      "metadata": {
        "id": "3QyhxNg508eQ"
      },
      "execution_count": null,
      "outputs": []
    },
    {
      "cell_type": "markdown",
      "source": [
        "## SVM for classfication\n",
        "\n",
        "8. **(1pt)** Train a linear SVM on the training set for each one of these C hyperparameter values: {0:001; 0:01; 0:1; 1; 10}. Find the best hyperparameter on the validation set."
      ],
      "metadata": {
        "id": "n90URJTurUEb"
      }
    },
    {
      "cell_type": "code",
      "source": [
        "from sklearn.svm import LinearSVC\n",
        "from sklearn.metrics import accuracy_score, precision_score, recall_score, f1_score\n",
        "\n",
        "C_values = [0.001, 0.01, 0.1, 1, 10]\n",
        "best_C = None\n",
        "best_accuracy = -1\n",
        "\n",
        "for C in C_values:\n",
        "    svm = LinearSVC(C=C,max_iter=10000)\n",
        "    svm.fit(X_train, y_train)\n",
        "    y_pred = svm.predict(X_val)\n",
        "    accuracy = accuracy_score(y_val, y_pred)\n",
        "    print(f\"Accuracy for C={C}: {accuracy}\")\n",
        "    f1 = f1_score(y_val, y_pred, average='weighted')\n",
        "    print(f\"F1 score for C={C}: {f1:.2f}\\n\")\n",
        "    if accuracy > best_accuracy:\n",
        "        best_accuracy = accuracy\n",
        "        best_C = C\n",
        "\n",
        "print(f\"Best hyperparameter: C={best_C}, based on accuracy score\")\n"
      ],
      "metadata": {
        "id": "bjjK2Oeeqh_T",
        "colab": {
          "base_uri": "https://localhost:8080/"
        },
        "outputId": "3b40a72a-834d-41fa-85f1-fec8cec4fbb5"
      },
      "execution_count": null,
      "outputs": [
        {
          "output_type": "stream",
          "name": "stdout",
          "text": [
            "Accuracy for C=0.001: 0.5\n",
            "F1 score for C=0.001: 0.43\n",
            "\n",
            "Accuracy for C=0.01: 0.65\n",
            "F1 score for C=0.01: 0.63\n",
            "\n",
            "Accuracy for C=0.1: 0.8\n",
            "F1 score for C=0.1: 0.80\n",
            "\n",
            "Accuracy for C=1: 0.9\n",
            "F1 score for C=1: 0.90\n",
            "\n",
            "Accuracy for C=10: 0.9\n",
            "F1 score for C=10: 0.90\n",
            "\n",
            "Best hyperparameter: C=1, based on accuracy score\n"
          ]
        }
      ]
    },
    {
      "cell_type": "markdown",
      "source": [
        "9. **(1pt)** Using the best hyperparameter C, evaluate the accuracy, precision, recall, and F1-score on the test set."
      ],
      "metadata": {
        "id": "uNRrX4Jxw0En"
      }
    },
    {
      "cell_type": "code",
      "source": [
        "svm = LinearSVC(C=1)\n",
        "svm.fit(X_train, y_train)\n",
        "y_pred = svm.predict(X_test)\n",
        "\n",
        "accuracy = accuracy_score(y_test, y_pred)\n",
        "precision = precision_score(y_test, y_pred, average = 'weighted')\n",
        "recall = recall_score(y_test, y_pred, average = 'weighted')\n",
        "f1 = f1_score(y_test, y_pred, average = 'weighted')\n",
        "\n",
        "print(f\"Accuracy: {accuracy:.2f}\")\n",
        "print(f\"Precision: {precision:.2f}\")\n",
        "print(f\"Recall: {recall:.2f}\")\n",
        "print(f\"F1-score: {f1:.2f}\")\n"
      ],
      "metadata": {
        "id": "9vOjObi4gXzo",
        "colab": {
          "base_uri": "https://localhost:8080/"
        },
        "outputId": "21773ffb-f665-487c-b24b-5a0548937342"
      },
      "execution_count": null,
      "outputs": [
        {
          "output_type": "stream",
          "name": "stdout",
          "text": [
            "Accuracy: 0.85\n",
            "Precision: 0.88\n",
            "Recall: 0.85\n",
            "F1-score: 0.83\n"
          ]
        }
      ]
    },
    {
      "cell_type": "markdown",
      "source": [
        "10. **(0.5pt)** Plot the confusion matrix on the test set and explain the reason for your false negatives/positives."
      ],
      "metadata": {
        "id": "HpqlVUyn5dZF"
      }
    },
    {
      "cell_type": "code",
      "source": [
        "from sklearn.metrics import confusion_matrix\n",
        "\n",
        "cm = confusion_matrix(y_test, y_pred)\n",
        "sns.heatmap(cm, annot=True, cmap=\"Blues\")\n",
        "plt.xlabel(\"Predicted Labels\")\n",
        "plt.ylabel(\"True Labels\")\n",
        "plt.title(\"Confusion Matrix\")\n",
        "plt.show()\n"
      ],
      "metadata": {
        "id": "KkPADrA65YeN",
        "colab": {
          "base_uri": "https://localhost:8080/",
          "height": 472
        },
        "outputId": "6f9f6f13-4091-45a0-fa01-e60359000cbd"
      },
      "execution_count": null,
      "outputs": [
        {
          "output_type": "display_data",
          "data": {
            "text/plain": [
              "<Figure size 640x480 with 2 Axes>"
            ],
            "image/png": "[encoded data removed]"
          },
          "metadata": {}
        }
      ]
    },
    {
      "cell_type": "markdown",
      "source": [
        "**Observations**\n",
        "\n",
        "The only class with missclassification is class 1. This is not very surprising since class 0 and 2 are very distant from one another in a euclidean way as seen previously in the first plot. This means they are easy to seperate. However, class 1 was harder to seperate from the other class in a linear fashion."
      ],
      "metadata": {
        "id": "nC6dT1Jg5oP8"
      }
    },
    {
      "cell_type": "markdown",
      "source": [
        "# Regression **(13pt)**\n",
        "You will now train k-NN and neural network models for the task of predicting\n",
        "the rating of a text review.\n",
        "\n",
        "The data to download are **[here](https://raw.githubusercontent.com/davoodwadi/MATH60629A.A2023-MACHINE-LEARNING-I/main/data/reviews.tsv)**.\n",
        "\n",
        "Each datum is a review in text format of an Amazon product.\n",
        "In the data file, each line corresponds to a datum. Each datum contains a target (y) followed by a short text (x). The target variable is the rating given by a user to a product. It is an integer value between 1 and 5. The text is the review.\n",
        "\n",
        "To pre-process the data you will first have to separate the targets from the features.\n",
        "*Hint: you can use the `split(’\\t’)` function. There are also functions in `pandas` that will allow you to easily load this dataset.*"
      ],
      "metadata": {
        "id": "e9XmOIOg-kZx"
      }
    },
    {
      "cell_type": "markdown",
      "source": [
        "We will model this task as a regression problem (you can use mean squared error to measure performance).\n",
        "1. **(0.5pt)** If we had decided to model this task as a classification problem with 5 classes, what are some of the metrics we could have used to measure performance?"
      ],
      "metadata": {
        "id": "eLxUJ52WAH49"
      }
    },
    {
      "cell_type": "markdown",
      "source": [
        "**answer**\n",
        "\n",
        "Since this is an ordinal regression, evaluating this model with a classification metric may not be the best idea. Some standard classification metrics that could be used are accuracy or F1 score.\n"
      ],
      "metadata": {
        "id": "175xmSSwu_y-"
      }
    },
    {
      "cell_type": "markdown",
      "source": [
        "2. List one **(0.5pt)** advantage and one **(0.5pt)** disadvantage of instead modelling the problem as a classification problem with 5 classes."
      ],
      "metadata": {
        "id": "ves0naFX6VwG"
      }
    },
    {
      "cell_type": "markdown",
      "source": [
        "**answer**\n",
        "\n",
        "Advantage:\n",
        "\n",
        "Classification won't extrapolate out of the rating scale, it will not give 7.5 as an answer for a 1 to 5 integer scale.\n",
        "\n",
        "Disadvantage:\n",
        "\n",
        "By modeling as a classification with accuracy as a performance metric, you do not penalise more for large error. It is a hit or miss. While in regression it is a spectrum. Predicting 1 for a 5 yields a higher loss than 1 for a 2. One could argue that client satisfaction is more of a continous variable and would be better evaluated with a regression.\n",
        "\n"
      ],
      "metadata": {
        "id": "4Qu9_GBE6XGg"
      }
    },
    {
      "cell_type": "code",
      "source": [
        "# download and load the dataset\n",
        "!wget -P /content https://raw.githubusercontent.com/davoodwadi/MATH60629A.A2023-MACHINE-LEARNING-I/main/data/reviews.tsv\n",
        "\n",
        "import pandas as pd\n",
        "df = pd.read_csv('reviews.tsv', sep='\\t', names=['y', 'X'])"
      ],
      "metadata": {
        "id": "ZN3uGAWZ8j6F",
        "colab": {
          "base_uri": "https://localhost:8080/"
        },
        "outputId": "356d1170-5c54-425c-9fb3-22baca420129"
      },
      "execution_count": null,
      "outputs": [
        {
          "output_type": "stream",
          "name": "stdout",
          "text": [
            "--2023-10-21 15:33:25--  https://raw.githubusercontent.com/davoodwadi/MATH60629A.A2023-MACHINE-LEARNING-I/main/data/reviews.tsv\n",
            "Resolving raw.githubusercontent.com (raw.githubusercontent.com)... 185.199.108.133, 185.199.109.133, 185.199.110.133, ...\n",
            "Connecting to raw.githubusercontent.com (raw.githubusercontent.com)|185.199.108.133|:443... connected.\n",
            "HTTP request sent, awaiting response... 200 OK\n",
            "Length: 5569484 (5.3M) [text/plain]\n",
            "Saving to: ‘/content/reviews.tsv’\n",
            "\n",
            "reviews.tsv         100%[===================>]   5.31M  --.-KB/s    in 0.06s   \n",
            "\n",
            "2023-10-21 15:33:26 (95.4 MB/s) - ‘/content/reviews.tsv’ saved [5569484/5569484]\n",
            "\n"
          ]
        }
      ]
    },
    {
      "cell_type": "markdown",
      "source": [
        "3. **(0.5pt)** Divide the datasets into training (80% of the data), validation (10%), and test sets (10%). For this set the random seed to $1234$\n",
        "(`random state=1234`)"
      ],
      "metadata": {
        "id": "wXL0KHCevPNX"
      }
    },
    {
      "cell_type": "code",
      "source": [
        "train, test = train_test_split(df, test_size=0.2, random_state=1234, stratify=df.y)\n",
        "val, test = train_test_split(test, test_size=0.5, random_state=1234, stratify=test.y)"
      ],
      "metadata": {
        "id": "ST-bvHfA-275"
      },
      "execution_count": null,
      "outputs": []
    },
    {
      "cell_type": "markdown",
      "source": [
        "4. **(2pt)** Now you must obtain a bag-of-words representation of the features.\n",
        "sklearn provides several functions for doing so.\n",
        "\n",
        "To limit the required training time, please use a maximum of 2,000 words\n",
        "in your vocabulary (`max features=2000`) and the list of english stop words\n",
        "from sklearn (`stop words=\"english\"`). Words on this list will be automatically removed from the data since they are, a priori, less predictive for\n",
        "the task at hand. Use the default value for all other function parameters."
      ],
      "metadata": {
        "id": "swLMbAsFxGAo"
      }
    },
    {
      "cell_type": "code",
      "source": [
        "from sklearn.feature_extraction.text import CountVectorizer\n",
        "\n",
        "#Replace nan in X\n",
        "print(train.X.isna().sum(), 'nan values, vectorizer does not seem to like them much')\n",
        "train.X.fillna(' ', inplace=True)\n",
        "val.X.fillna(' ', inplace=True)\n",
        "test.X.fillna(' ', inplace=True)\n",
        "\n",
        "#Vectorize\n",
        "vectorizer = CountVectorizer(max_features=2000, stop_words=\"english\")\n",
        "vectorizer.fit(train.X)\n",
        "X_train = vectorizer.transform(train.X)\n",
        "X_val = vectorizer.transform(val.X)\n",
        "X_test = vectorizer.transform(test.X)\n",
        "\n",
        "#For convention\n",
        "y_train = train.y\n",
        "y_val = val.y\n",
        "y_test = test.y\n"
      ],
      "metadata": {
        "id": "hHNhBK-2v6Av",
        "colab": {
          "base_uri": "https://localhost:8080/"
        },
        "outputId": "88c01392-e78e-40a4-e785-b636517878dc"
      },
      "execution_count": null,
      "outputs": [
        {
          "output_type": "stream",
          "name": "stdout",
          "text": [
            "6 nan values, vectorizer does not seem to like them much\n"
          ]
        }
      ]
    },
    {
      "cell_type": "markdown",
      "source": [
        "**k-nearest neighbours**\n",
        "5. **(0.5pt)** Which of the following three distance functions ‘cosine’, ’euclidean’,\n",
        "and ‘manhattan’ do you deem more appropriate for this problem? Please\n",
        "justify."
      ],
      "metadata": {
        "id": "5tGC7De22__p"
      }
    },
    {
      "cell_type": "markdown",
      "source": [
        "**answer**\n",
        "I believe cosine distance is the most appropriate since we do not really care about the magnitude of the vectors (length of review) but more about its direction (degree of satisfaction)"
      ],
      "metadata": {
        "id": "mshdhWoo3PE5"
      }
    },
    {
      "cell_type": "markdown",
      "source": [
        "6. **(1pt)** Train an appropriate k-NN model for this\n",
        "task. We ask that you train models with 1, 10, 50, 100, and 1000 neighbours."
      ],
      "metadata": {
        "id": "kflSjqHC3RXw"
      }
    },
    {
      "cell_type": "code",
      "source": [
        "from sklearn.neighbors import KNeighborsRegressor\n",
        "\n",
        "k_values = [1, 10, 50, 100, 1000]\n",
        "models = []\n",
        "\n",
        "# Loop over the k values and create a model for each value\n",
        "for k in k_values:\n",
        "    model = KNeighborsRegressor(n_neighbors=k, metric='cosine')\n",
        "    model.fit(X_train, y_train)\n",
        "    models.append(model)\n"
      ],
      "metadata": {
        "id": "Is7K9r103Odg"
      },
      "execution_count": null,
      "outputs": []
    },
    {
      "cell_type": "markdown",
      "source": [
        "7. **(0.5pt)** What is the performance of each model on the training and validation\n",
        "sets?"
      ],
      "metadata": {
        "id": "EOYRFdq47O3S"
      }
    },
    {
      "cell_type": "code",
      "source": [
        "from sklearn.metrics import mean_squared_error\n",
        "\n",
        "# Predict the labels of your train/val data for each model\n",
        "y_preds_train = [model.predict(X_train) for model in models]\n",
        "y_preds_val = [model.predict(X_val) for model in models]\n",
        "\n",
        "# Calculate the MSE of each model\n",
        "mses_train = []\n",
        "for y_pred in y_preds_train:\n",
        "    mse = mean_squared_error(y_train, y_pred)\n",
        "    mses_train.append(mse)\n",
        "\n",
        "mses_val = []\n",
        "for y_pred in y_preds_val:\n",
        "    mse = mean_squared_error(y_val, y_pred)\n",
        "    mses_val.append(mse)\n",
        "\n",
        "# Print the MSEs\n",
        "print('Performance on training set: ')\n",
        "for k, mse in zip(k_values, mses_train):\n",
        "    print(f'MSE with {k} neighbors: {mse:.3f}')\n",
        "\n",
        "print('\\nPerformance on validation set: ')\n",
        "for k, mse in zip(k_values, mses_val):\n",
        "    print(f'MSE with {k} neighbors: {mse:.3f}')\n"
      ],
      "metadata": {
        "colab": {
          "base_uri": "https://localhost:8080/"
        },
        "id": "DeJ3i_s7lMmS",
        "outputId": "16745884-f497-4c2d-ffa6-b98e4945d859"
      },
      "execution_count": null,
      "outputs": [
        {
          "output_type": "stream",
          "name": "stdout",
          "text": [
            "Performance on training set: \n",
            "MSE with 1 neighbors: 0.001\n",
            "MSE with 10 neighbors: 0.706\n",
            "MSE with 50 neighbors: 0.811\n",
            "MSE with 100 neighbors: 0.835\n",
            "MSE with 1000 neighbors: 0.893\n",
            "\n",
            "Performance on validation set: \n",
            "MSE with 1 neighbors: 1.472\n",
            "MSE with 10 neighbors: 0.870\n",
            "MSE with 50 neighbors: 0.850\n",
            "MSE with 100 neighbors: 0.860\n",
            "MSE with 1000 neighbors: 0.904\n"
          ]
        }
      ]
    },
    {
      "cell_type": "markdown",
      "source": [
        "**Observations**"
      ],
      "metadata": {
        "id": "DJE-kvBr7WHY"
      }
    },
    {
      "cell_type": "markdown",
      "source": [
        "8. **(0.5pt)** What value of the hyperparameter provides the best results?"
      ],
      "metadata": {
        "id": "ELwBVDvx7N8_"
      }
    },
    {
      "cell_type": "markdown",
      "source": [
        "**answer**\n",
        "\n",
        "k = 50 provides the best performance based on the validation set."
      ],
      "metadata": {
        "id": "CQ8Aw1jj7SCP"
      }
    },
    {
      "cell_type": "code",
      "source": [
        "# Measuring the performance of the model on the test set for future reference\n",
        "knn = KNeighborsRegressor(n_neighbors=50, metric='cosine')\n",
        "knn.fit(X_train, y_train)\n",
        "mse_knn = mean_squared_error(y_test, knn.predict(X_test))\n",
        "mse_knn"
      ],
      "metadata": {
        "colab": {
          "base_uri": "https://localhost:8080/"
        },
        "id": "WcIYXb73Ufdy",
        "outputId": "887312a0-6e74-4c7d-b1ec-a9ccc69a9fc7"
      },
      "execution_count": null,
      "outputs": [
        {
          "output_type": "execute_result",
          "data": {
            "text/plain": [
              "0.8495211999999999"
            ]
          },
          "metadata": {},
          "execution_count": 19
        }
      ]
    },
    {
      "cell_type": "markdown",
      "source": [
        "**Neural Networks**\n",
        "\n",
        "Upon instantiating your neural networks, fix the random seed to 1234 (that is\n",
        "`random state=1234`)."
      ],
      "metadata": {
        "id": "-zzbbaoL7D-Y"
      }
    },
    {
      "cell_type": "markdown",
      "source": [
        "9. **(2pt)** You will now train a series of neural networks using different hyperparameters. Use the option `early_stopping=True` and find the hyperparameters that obtain the best results on the validation dataset (to give\n",
        "you an idea, I imagine that you will train around 50 different models).\n",
        "I suggest that you explore the following three hyperarameters: *learning_rate*, *size of the network*, and *the strength of the L2 regularization term*."
      ],
      "metadata": {
        "id": "bENyu01L79VX"
      }
    },
    {
      "cell_type": "code",
      "source": [
        "from sklearn.neural_network import MLPRegressor\n",
        "import itertools\n",
        "\n",
        "results = {'mse' : [],\n",
        "           'learning_rate' : [],\n",
        "           'alpha' : [],\n",
        "           'hidden_layer_sizes' : []}\n",
        "\n",
        "#hyperparams to validate\n",
        "learning_rate = ['constant', 'adaptive']\n",
        "alpha = [(10**-i) for i in range(-2,2)]\n",
        "hidden_layer_sizes = [(h,)*w for h in range(4,16,4) for w in [1,2,4,8]]\n",
        "\n",
        "for l, a, s in itertools.product(learning_rate, alpha, hidden_layer_sizes):\n",
        "\n",
        "    mlp = MLPRegressor(early_stopping = True,\n",
        "                       random_state = 1234 ,\n",
        "                       solver = 'sgd',\n",
        "                       learning_rate = l,\n",
        "                       alpha = a,\n",
        "                       hidden_layer_sizes = s)\n",
        "\n",
        "    mlp.fit(X_train, y_train)\n",
        "    mse = mean_squared_error(y_val, mlp.predict(X_val))\n",
        "    results['mse'].append(mse)\n",
        "    results['alpha'].append(a)\n",
        "    results['learning_rate'].append(l)\n",
        "    results['hidden_layer_sizes'].append(s)\n",
        "    df = pd.DataFrame(results)\n",
        "\n",
        "df_sorted = df.sort_values(by=\"mse\", ascending=True)\n",
        "df_sorted.head(10)"
      ],
      "metadata": {
        "colab": {
          "base_uri": "https://localhost:8080/"
        },
        "id": "SEnT3ibzvLSh",
        "outputId": "c8ffa060-0ec2-4085-cd0b-37e572205a47"
      },
      "execution_count": null,
      "outputs": [
        {
          "output_type": "stream",
          "name": "stdout",
          "text": [
            "0.9363252704425735 constant 100 (4,)\n",
            "0.9412784610098193 constant 100 (4, 4)\n",
            "0.9747640000908341 constant 100 (4, 4, 4, 4)\n",
            "0.974773646022279 constant 100 (4, 4, 4, 4, 4, 4, 4, 4)\n",
            "0.9171841038505749 constant 100 (8,)\n",
            "0.9440164480618698 constant 100 (8, 8)\n",
            "0.9751603537073529 constant 100 (8, 8, 8, 8)\n",
            "0.9754920397813527 constant 100 (8, 8, 8, 8, 8, 8, 8, 8)\n",
            "0.9024164066513919 constant 100 (12,)\n",
            "0.9532594237594496 constant 100 (12, 12)\n",
            "0.9752578238851406 constant 100 (12, 12, 12, 12)\n",
            "0.9793410422054107 constant 100 (12, 12, 12, 12, 12, 12, 12, 12)\n",
            "0.7725904520473399 constant 10 (4,)\n",
            "0.7481983533439661 constant 10 (4, 4)\n",
            "0.9745185134933669 constant 10 (4, 4, 4, 4)\n",
            "0.9747736460049331 constant 10 (4, 4, 4, 4, 4, 4, 4, 4)\n",
            "0.7758489890285463 constant 10 (8,)\n"
          ]
        },
        {
          "output_type": "stream",
          "name": "stderr",
          "text": [
            "/usr/local/lib/python3.10/dist-packages/sklearn/neural_network/_multilayer_perceptron.py:686: ConvergenceWarning: Stochastic Optimizer: Maximum iterations (200) reached and the optimization hasn't converged yet.\n",
            "  warnings.warn(\n"
          ]
        },
        {
          "output_type": "stream",
          "name": "stdout",
          "text": [
            "0.7530849711393574 constant 10 (8, 8)\n",
            "0.6981292397036188 constant 10 (8, 8, 8, 8)\n",
            "0.9703279494862577 constant 10 (8, 8, 8, 8, 8, 8, 8, 8)\n",
            "0.761931530972199 constant 10 (12,)\n",
            "0.736173319709316 constant 10 (12, 12)\n",
            "0.7052152609860535 constant 10 (12, 12, 12, 12)\n",
            "0.9697382283234852 constant 10 (12, 12, 12, 12, 12, 12, 12, 12)\n",
            "0.7866066835098195 constant 1 (4,)\n",
            "0.7769879157617086 constant 1 (4, 4)\n",
            "0.9734837058570719 constant 1 (4, 4, 4, 4)\n",
            "0.9747736460031553 constant 1 (4, 4, 4, 4, 4, 4, 4, 4)\n",
            "0.7819881884830208 constant 1 (8,)\n",
            "0.7687273121940293 constant 1 (8, 8)\n",
            "0.7122606692139137 constant 1 (8, 8, 8, 8)\n",
            "0.7231666917436805 constant 1 (8, 8, 8, 8, 8, 8, 8, 8)\n",
            "0.7778811484963396 constant 1 (12,)\n",
            "0.7831038519252563 constant 1 (12, 12)\n",
            "0.7392940070567674 constant 1 (12, 12, 12, 12)\n",
            "0.7425461068318764 constant 1 (12, 12, 12, 12, 12, 12, 12, 12)\n",
            "0.7906497165316945 constant 0.1 (4,)\n",
            "0.788045210103453 constant 0.1 (4, 4)\n",
            "0.9728713800546668 constant 0.1 (4, 4, 4, 4)\n",
            "0.9747736460029769 constant 0.1 (4, 4, 4, 4, 4, 4, 4, 4)\n",
            "0.7881955930257397 constant 0.1 (8,)\n",
            "0.7739548540729217 constant 0.1 (8, 8)\n",
            "0.7215833903499672 constant 0.1 (8, 8, 8, 8)\n",
            "0.7282974135151167 constant 0.1 (8, 8, 8, 8, 8, 8, 8, 8)\n",
            "0.7888768904451026 constant 0.1 (12,)\n",
            "0.7887391844519199 constant 0.1 (12, 12)\n",
            "0.7560606247908829 constant 0.1 (12, 12, 12, 12)\n",
            "0.7600477797469757 constant 0.1 (12, 12, 12, 12, 12, 12, 12, 12)\n",
            "0.9363252704425735 adaptive 100 (4,)\n",
            "0.9412784610098193 adaptive 100 (4, 4)\n",
            "0.9747640000908341 adaptive 100 (4, 4, 4, 4)\n",
            "0.974773646022279 adaptive 100 (4, 4, 4, 4, 4, 4, 4, 4)\n",
            "0.9171841038505749 adaptive 100 (8,)\n",
            "0.9440164480618698 adaptive 100 (8, 8)\n",
            "0.9751603537073529 adaptive 100 (8, 8, 8, 8)\n",
            "0.9754920397813527 adaptive 100 (8, 8, 8, 8, 8, 8, 8, 8)\n",
            "0.9024164066513919 adaptive 100 (12,)\n",
            "0.9532594237594496 adaptive 100 (12, 12)\n",
            "0.9752047796294839 adaptive 100 (12, 12, 12, 12)\n",
            "0.9774420870408574 adaptive 100 (12, 12, 12, 12, 12, 12, 12, 12)\n"
          ]
        },
        {
          "output_type": "stream",
          "name": "stderr",
          "text": [
            "/usr/local/lib/python3.10/dist-packages/sklearn/neural_network/_multilayer_perceptron.py:686: ConvergenceWarning: Stochastic Optimizer: Maximum iterations (200) reached and the optimization hasn't converged yet.\n",
            "  warnings.warn(\n"
          ]
        },
        {
          "output_type": "stream",
          "name": "stdout",
          "text": [
            "0.7725904520473399 adaptive 10 (4,)\n",
            "0.7481983533439661 adaptive 10 (4, 4)\n",
            "0.9745185134933669 adaptive 10 (4, 4, 4, 4)\n",
            "0.9747736460049331 adaptive 10 (4, 4, 4, 4, 4, 4, 4, 4)\n",
            "0.7713698129540271 adaptive 10 (8,)\n"
          ]
        },
        {
          "output_type": "stream",
          "name": "stderr",
          "text": [
            "/usr/local/lib/python3.10/dist-packages/sklearn/neural_network/_multilayer_perceptron.py:686: ConvergenceWarning: Stochastic Optimizer: Maximum iterations (200) reached and the optimization hasn't converged yet.\n",
            "  warnings.warn(\n"
          ]
        },
        {
          "output_type": "stream",
          "name": "stdout",
          "text": [
            "0.7530849711393574 adaptive 10 (8, 8)\n",
            "0.6981292397036188 adaptive 10 (8, 8, 8, 8)\n",
            "0.9703279494862577 adaptive 10 (8, 8, 8, 8, 8, 8, 8, 8)\n",
            "0.7591374770879843 adaptive 10 (12,)\n"
          ]
        },
        {
          "output_type": "stream",
          "name": "stderr",
          "text": [
            "/usr/local/lib/python3.10/dist-packages/sklearn/neural_network/_multilayer_perceptron.py:686: ConvergenceWarning: Stochastic Optimizer: Maximum iterations (200) reached and the optimization hasn't converged yet.\n",
            "  warnings.warn(\n"
          ]
        },
        {
          "output_type": "stream",
          "name": "stdout",
          "text": [
            "0.736173319709316 adaptive 10 (12, 12)\n"
          ]
        },
        {
          "output_type": "stream",
          "name": "stderr",
          "text": [
            "/usr/local/lib/python3.10/dist-packages/sklearn/neural_network/_multilayer_perceptron.py:686: ConvergenceWarning: Stochastic Optimizer: Maximum iterations (200) reached and the optimization hasn't converged yet.\n",
            "  warnings.warn(\n"
          ]
        },
        {
          "output_type": "stream",
          "name": "stdout",
          "text": [
            "0.7037041335449019 adaptive 10 (12, 12, 12, 12)\n",
            "0.9697382283234852 adaptive 10 (12, 12, 12, 12, 12, 12, 12, 12)\n",
            "0.7866066835098195 adaptive 1 (4,)\n",
            "0.7769879157617086 adaptive 1 (4, 4)\n",
            "0.9734427069312876 adaptive 1 (4, 4, 4, 4)\n",
            "0.9747736460031553 adaptive 1 (4, 4, 4, 4, 4, 4, 4, 4)\n",
            "0.7819881884830208 adaptive 1 (8,)\n",
            "0.7687273121940293 adaptive 1 (8, 8)\n",
            "0.7122606692139137 adaptive 1 (8, 8, 8, 8)\n",
            "0.7231666917436805 adaptive 1 (8, 8, 8, 8, 8, 8, 8, 8)\n",
            "0.7783618998282026 adaptive 1 (12,)\n",
            "0.7831038519252563 adaptive 1 (12, 12)\n",
            "0.7392940070567674 adaptive 1 (12, 12, 12, 12)\n",
            "0.7425461068318764 adaptive 1 (12, 12, 12, 12, 12, 12, 12, 12)\n",
            "0.7906497165316945 adaptive 0.1 (4,)\n",
            "0.788045210103453 adaptive 0.1 (4, 4)\n",
            "0.9727608698897742 adaptive 0.1 (4, 4, 4, 4)\n",
            "0.9747736460029769 adaptive 0.1 (4, 4, 4, 4, 4, 4, 4, 4)\n",
            "0.7881955930257397 adaptive 0.1 (8,)\n",
            "0.7739548540729217 adaptive 0.1 (8, 8)\n",
            "0.7215833903499672 adaptive 0.1 (8, 8, 8, 8)\n",
            "0.7282974135151167 adaptive 0.1 (8, 8, 8, 8, 8, 8, 8, 8)\n",
            "0.7888768904451026 adaptive 0.1 (12,)\n",
            "0.7887391844519199 adaptive 0.1 (12, 12)\n",
            "0.7560606247908829 adaptive 0.1 (12, 12, 12, 12)\n",
            "0.7600477797469757 adaptive 0.1 (12, 12, 12, 12, 12, 12, 12, 12)\n"
          ]
        }
      ]
    },
    {
      "cell_type": "markdown",
      "source": [
        "Note: I did leave the Stochastic Optimizer: Maximum iterations (200) to its default value of 200 due to the amount of time required to train this model."
      ],
      "metadata": {
        "id": "SVmEe0kNeM38"
      }
    },
    {
      "cell_type": "code",
      "source": [
        "#Here are the results if you do not want to run the code above\n",
        "d = {'mse': {18: 0.6981292397036188, 66: 0.6981292397036188, 70: 0.7037041335449019, 22: 0.7052152609860535, 78: 0.7122606692139137, 30: 0.7122606692139137, 90: 0.7215833903499672, 42: 0.7215833903499672, 31: 0.7231666917436805, 79: 0.7231666917436805, 43: 0.7282974135151167, 91: 0.7282974135151167, 21: 0.736173319709316, 69: 0.736173319709316, 82: 0.7392940070567674, 34: 0.7392940070567674, 83: 0.7425461068318764, 35: 0.7425461068318764, 61: 0.7481983533439661, 13: 0.7481983533439661, 65: 0.7530849711393574, 17: 0.7530849711393574, 46: 0.7560606247908829, 94: 0.7560606247908829, 68: 0.7591374770879843, 47: 0.7600477797469757, 95: 0.7600477797469757, 20: 0.761931530972199, 77: 0.7687273121940293, 29: 0.7687273121940293, 64: 0.7713698129540271, 12: 0.7725904520473399, 60: 0.7725904520473399, 89: 0.7739548540729217, 41: 0.7739548540729217, 16: 0.7758489890285463, 73: 0.7769879157617086, 25: 0.7769879157617086, 32: 0.7778811484963396, 80: 0.7783618998282026, 76: 0.7819881884830208, 28: 0.7819881884830208, 81: 0.7831038519252563, 33: 0.7831038519252563, 24: 0.7866066835098195, 72: 0.7866066835098195, 37: 0.788045210103453, 85: 0.788045210103453, 40: 0.7881955930257397, 88: 0.7881955930257397, 45: 0.7887391844519199, 93: 0.7887391844519199, 44: 0.7888768904451026, 92: 0.7888768904451026, 84: 0.7906497165316945, 36: 0.7906497165316945, 56: 0.9024164066513919, 8: 0.9024164066513919, 4: 0.9171841038505749, 52: 0.9171841038505749, 0: 0.9363252704425735, 48: 0.9363252704425735, 49: 0.9412784610098193, 1: 0.9412784610098193, 5: 0.9440164480618698, 53: 0.9440164480618698, 57: 0.9532594237594496, 9: 0.9532594237594496, 71: 0.9697382283234852, 23: 0.9697382283234852, 19: 0.9703279494862577, 67: 0.9703279494862577, 86: 0.9727608698897742, 38: 0.9728713800546668, 74: 0.9734427069312876, 26: 0.9734837058570719, 14: 0.9745185134933669, 62: 0.9745185134933669, 2: 0.9747640000908341, 50: 0.9747640000908341, 39: 0.9747736460029769, 87: 0.9747736460029769, 27: 0.9747736460031553, 75: 0.9747736460031553, 15: 0.9747736460049331, 63: 0.9747736460049331, 3: 0.974773646022279, 51: 0.974773646022279, 54: 0.9751603537073529, 6: 0.9751603537073529, 58: 0.9752047796294839, 10: 0.9752578238851406, 55: 0.9754920397813527, 7: 0.9754920397813527, 59: 0.9774420870408574, 11: 0.9793410422054107}, 'learning_rate': {18: 'constant', 66: 'adaptive', 70: 'adaptive', 22: 'constant', 78: 'adaptive', 30: 'constant', 90: 'adaptive', 42: 'constant', 31: 'constant', 79: 'adaptive', 43: 'constant', 91: 'adaptive', 21: 'constant', 69: 'adaptive', 82: 'adaptive', 34: 'constant', 83: 'adaptive', 35: 'constant', 61: 'adaptive', 13: 'constant', 65: 'adaptive', 17: 'constant', 46: 'constant', 94: 'adaptive', 68: 'adaptive', 47: 'constant', 95: 'adaptive', 20: 'constant', 77: 'adaptive', 29: 'constant', 64: 'adaptive', 12: 'constant', 60: 'adaptive', 89: 'adaptive', 41: 'constant', 16: 'constant', 73: 'adaptive', 25: 'constant', 32: 'constant', 80: 'adaptive', 76: 'adaptive', 28: 'constant', 81: 'adaptive', 33: 'constant', 24: 'constant', 72: 'adaptive', 37: 'constant', 85: 'adaptive', 40: 'constant', 88: 'adaptive', 45: 'constant', 93: 'adaptive', 44: 'constant', 92: 'adaptive', 84: 'adaptive', 36: 'constant', 56: 'adaptive', 8: 'constant', 4: 'constant', 52: 'adaptive', 0: 'constant', 48: 'adaptive', 49: 'adaptive', 1: 'constant', 5: 'constant', 53: 'adaptive', 57: 'adaptive', 9: 'constant', 71: 'adaptive', 23: 'constant', 19: 'constant', 67: 'adaptive', 86: 'adaptive', 38: 'constant', 74: 'adaptive', 26: 'constant', 14: 'constant', 62: 'adaptive', 2: 'constant', 50: 'adaptive', 39: 'constant', 87: 'adaptive', 27: 'constant', 75: 'adaptive', 15: 'constant', 63: 'adaptive', 3: 'constant', 51: 'adaptive', 54: 'adaptive', 6: 'constant', 58: 'adaptive', 10: 'constant', 55: 'adaptive', 7: 'constant', 59: 'adaptive', 11: 'constant'}, 'alpha': {18: 10.0, 66: 10.0, 70: 10.0, 22: 10.0, 78: 1.0, 30: 1.0, 90: 0.1, 42: 0.1, 31: 1.0, 79: 1.0, 43: 0.1, 91: 0.1, 21: 10.0, 69: 10.0, 82: 1.0, 34: 1.0, 83: 1.0, 35: 1.0, 61: 10.0, 13: 10.0, 65: 10.0, 17: 10.0, 46: 0.1, 94: 0.1, 68: 10.0, 47: 0.1, 95: 0.1, 20: 10.0, 77: 1.0, 29: 1.0, 64: 10.0, 12: 10.0, 60: 10.0, 89: 0.1, 41: 0.1, 16: 10.0, 73: 1.0, 25: 1.0, 32: 1.0, 80: 1.0, 76: 1.0, 28: 1.0, 81: 1.0, 33: 1.0, 24: 1.0, 72: 1.0, 37: 0.1, 85: 0.1, 40: 0.1, 88: 0.1, 45: 0.1, 93: 0.1, 44: 0.1, 92: 0.1, 84: 0.1, 36: 0.1, 56: 100.0, 8: 100.0, 4: 100.0, 52: 100.0, 0: 100.0, 48: 100.0, 49: 100.0, 1: 100.0, 5: 100.0, 53: 100.0, 57: 100.0, 9: 100.0, 71: 10.0, 23: 10.0, 19: 10.0, 67: 10.0, 86: 0.1, 38: 0.1, 74: 1.0, 26: 1.0, 14: 10.0, 62: 10.0, 2: 100.0, 50: 100.0, 39: 0.1, 87: 0.1, 27: 1.0, 75: 1.0, 15: 10.0, 63: 10.0, 3: 100.0, 51: 100.0, 54: 100.0, 6: 100.0, 58: 100.0, 10: 100.0, 55: 100.0, 7: 100.0, 59: 100.0, 11: 100.0}, 'hidden_layer_sizes': {18: (8, 8, 8, 8), 66: (8, 8, 8, 8), 70: (12, 12, 12, 12), 22: (12, 12, 12, 12), 78: (8, 8, 8, 8), 30: (8, 8, 8, 8), 90: (8, 8, 8, 8), 42: (8, 8, 8, 8), 31: (8, 8, 8, 8, 8, 8, 8, 8), 79: (8, 8, 8, 8, 8, 8, 8, 8), 43: (8, 8, 8, 8, 8, 8, 8, 8), 91: (8, 8, 8, 8, 8, 8, 8, 8), 21: (12, 12), 69: (12, 12), 82: (12, 12, 12, 12), 34: (12, 12, 12, 12), 83: (12, 12, 12, 12, 12, 12, 12, 12), 35: (12, 12, 12, 12, 12, 12, 12, 12), 61: (4, 4), 13: (4, 4), 65: (8, 8), 17: (8, 8), 46: (12, 12, 12, 12), 94: (12, 12, 12, 12), 68: (12,), 47: (12, 12, 12, 12, 12, 12, 12, 12), 95: (12, 12, 12, 12, 12, 12, 12, 12), 20: (12,), 77: (8, 8), 29: (8, 8), 64: (8,), 12: (4,), 60: (4,), 89: (8, 8), 41: (8, 8), 16: (8,), 73: (4, 4), 25: (4, 4), 32: (12,), 80: (12,), 76: (8,), 28: (8,), 81: (12, 12), 33: (12, 12), 24: (4,), 72: (4,), 37: (4, 4), 85: (4, 4), 40: (8,), 88: (8,), 45: (12, 12), 93: (12, 12), 44: (12,), 92: (12,), 84: (4,), 36: (4,), 56: (12,), 8: (12,), 4: (8,), 52: (8,), 0: (4,), 48: (4,), 49: (4, 4), 1: (4, 4), 5: (8, 8), 53: (8, 8), 57: (12, 12), 9: (12, 12), 71: (12, 12, 12, 12, 12, 12, 12, 12), 23: (12, 12, 12, 12, 12, 12, 12, 12), 19: (8, 8, 8, 8, 8, 8, 8, 8), 67: (8, 8, 8, 8, 8, 8, 8, 8), 86: (4, 4, 4, 4), 38: (4, 4, 4, 4), 74: (4, 4, 4, 4), 26: (4, 4, 4, 4), 14: (4, 4, 4, 4), 62: (4, 4, 4, 4), 2: (4, 4, 4, 4), 50: (4, 4, 4, 4), 39: (4, 4, 4, 4, 4, 4, 4, 4), 87: (4, 4, 4, 4, 4, 4, 4, 4), 27: (4, 4, 4, 4, 4, 4, 4, 4), 75: (4, 4, 4, 4, 4, 4, 4, 4), 15: (4, 4, 4, 4, 4, 4, 4, 4), 63: (4, 4, 4, 4, 4, 4, 4, 4), 3: (4, 4, 4, 4, 4, 4, 4, 4), 51: (4, 4, 4, 4, 4, 4, 4, 4), 54: (8, 8, 8, 8), 6: (8, 8, 8, 8), 58: (12, 12, 12, 12), 10: (12, 12, 12, 12), 55: (8, 8, 8, 8, 8, 8, 8, 8), 7: (8, 8, 8, 8, 8, 8, 8, 8), 59: (12, 12, 12, 12, 12, 12, 12, 12), 11: (12, 12, 12, 12, 12, 12, 12, 12)}}\n",
        "res = pd.DataFrame(d)\n",
        "res.head()"
      ],
      "metadata": {
        "colab": {
          "base_uri": "https://localhost:8080/",
          "height": 206
        },
        "id": "NppdGe4XE-FW",
        "outputId": "6c775909-e809-4a85-d3e4-9bd1b80dcf96"
      },
      "execution_count": null,
      "outputs": [
        {
          "output_type": "execute_result",
          "data": {
            "text/plain": [
              "         mse learning_rate  alpha hidden_layer_sizes\n",
              "18  0.698129      constant   10.0       (8, 8, 8, 8)\n",
              "66  0.698129      adaptive   10.0       (8, 8, 8, 8)\n",
              "70  0.703704      adaptive   10.0   (12, 12, 12, 12)\n",
              "22  0.705215      constant   10.0   (12, 12, 12, 12)\n",
              "78  0.712261      adaptive    1.0       (8, 8, 8, 8)"
            ],
            "text/html": [
              "\n",
              "  <div id=\"df-32176a30-0c86-4d49-baa3-ed67d1ba4804\" class=\"colab-df-container\">\n",
              "    <div>\n",
              "<style scoped>\n",
              "    .dataframe tbody tr th:only-of-type {\n",
              "        vertical-align: middle;\n",
              "    }\n",
              "\n",
              "    .dataframe tbody tr th {\n",
              "        vertical-align: top;\n",
              "    }\n",
              "\n",
              "    .dataframe thead th {\n",
              "        text-align: right;\n",
              "    }\n",
              "</style>\n",
              "<table border=\"1\" class=\"dataframe\">\n",
              "  <thead>\n",
              "    <tr style=\"text-align: right;\">\n",
              "      <th></th>\n",
              "      <th>mse</th>\n",
              "      <th>learning_rate</th>\n",
              "      <th>alpha</th>\n",
              "      <th>hidden_layer_sizes</th>\n",
              "    </tr>\n",
              "  </thead>\n",
              "  <tbody>\n",
              "    <tr>\n",
              "      <th>18</th>\n",
              "      <td>0.698129</td>\n",
              "      <td>constant</td>\n",
              "      <td>10.0</td>\n",
              "      <td>(8, 8, 8, 8)</td>\n",
              "    </tr>\n",
              "    <tr>\n",
              "      <th>66</th>\n",
              "      <td>0.698129</td>\n",
              "      <td>adaptive</td>\n",
              "      <td>10.0</td>\n",
              "      <td>(8, 8, 8, 8)</td>\n",
              "    </tr>\n",
              "    <tr>\n",
              "      <th>70</th>\n",
              "      <td>0.703704</td>\n",
              "      <td>adaptive</td>\n",
              "      <td>10.0</td>\n",
              "      <td>(12, 12, 12, 12)</td>\n",
              "    </tr>\n",
              "    <tr>\n",
              "      <th>22</th>\n",
              "      <td>0.705215</td>\n",
              "      <td>constant</td>\n",
              "      <td>10.0</td>\n",
              "      <td>(12, 12, 12, 12)</td>\n",
              "    </tr>\n",
              "    <tr>\n",
              "      <th>78</th>\n",
              "      <td>0.712261</td>\n",
              "      <td>adaptive</td>\n",
              "      <td>1.0</td>\n",
              "      <td>(8, 8, 8, 8)</td>\n",
              "    </tr>\n",
              "  </tbody>\n",
              "</table>\n",
              "</div>\n",
              "    <div class=\"colab-df-buttons\">\n",
              "\n",
              "  <div class=\"colab-df-container\">\n",
              "    <button class=\"colab-df-convert\" onclick=\"convertToInteractive('df-32176a30-0c86-4d49-baa3-ed67d1ba4804')\"\n",
              "            title=\"Convert this dataframe to an interactive table.\"\n",
              "            style=\"display:none;\">\n",
              "\n",
              "  <svg xmlns=\"http://www.w3.org/2000/svg\" height=\"24px\" viewBox=\"0 -960 960 960\">\n",
              "    <path d=\"M120-120v-720h720v720H120Zm60-500h600v-160H180v160Zm220 220h160v-160H400v160Zm0 220h160v-160H400v160ZM180-400h160v-160H180v160Zm440 0h160v-160H620v160ZM180-180h160v-160H180v160Zm440 0h160v-160H620v160Z\"/>\n",
              "  </svg>\n",
              "    </button>\n",
              "\n",
              "  <style>\n",
              "    .colab-df-container {\n",
              "      display:flex;\n",
              "      gap: 12px;\n",
              "    }\n",
              "\n",
              "    .colab-df-convert {\n",
              "      background-color: #E8F0FE;\n",
              "      border: none;\n",
              "      border-radius: 50%;\n",
              "      cursor: pointer;\n",
              "      display: none;\n",
              "      fill: #1967D2;\n",
              "      height: 32px;\n",
              "      padding: 0 0 0 0;\n",
              "      width: 32px;\n",
              "    }\n",
              "\n",
              "    .colab-df-convert:hover {\n",
              "      background-color: #E2EBFA;\n",
              "      box-shadow: 0px 1px 2px rgba(60, 64, 67, 0.3), 0px 1px 3px 1px rgba(60, 64, 67, 0.15);\n",
              "      fill: #174EA6;\n",
              "    }\n",
              "\n",
              "    .colab-df-buttons div {\n",
              "      margin-bottom: 4px;\n",
              "    }\n",
              "\n",
              "    [theme=dark] .colab-df-convert {\n",
              "      background-color: #3B4455;\n",
              "      fill: #D2E3FC;\n",
              "    }\n",
              "\n",
              "    [theme=dark] .colab-df-convert:hover {\n",
              "      background-color: #434B5C;\n",
              "      box-shadow: 0px 1px 3px 1px rgba(0, 0, 0, 0.15);\n",
              "      filter: drop-shadow(0px 1px 2px rgba(0, 0, 0, 0.3));\n",
              "      fill: #FFFFFF;\n",
              "    }\n",
              "  </style>\n",
              "\n",
              "    <script>\n",
              "      const buttonEl =\n",
              "        document.querySelector('#df-32176a30-0c86-4d49-baa3-ed67d1ba4804 button.colab-df-convert');\n",
              "      buttonEl.style.display =\n",
              "        google.colab.kernel.accessAllowed ? 'block' : 'none';\n",
              "\n",
              "      async function convertToInteractive(key) {\n",
              "        const element = document.querySelector('#df-32176a30-0c86-4d49-baa3-ed67d1ba4804');\n",
              "        const dataTable =\n",
              "          await google.colab.kernel.invokeFunction('convertToInteractive',\n",
              "                                                    [key], {});\n",
              "        if (!dataTable) return;\n",
              "\n",
              "        const docLinkHtml = 'Like what you see? Visit the ' +\n",
              "          '<a target=\"_blank\" href=https://colab.research.google.com/notebooks/data_table.ipynb>data table notebook</a>'\n",
              "          + ' to learn more about interactive tables.';\n",
              "        element.innerHTML = '';\n",
              "        dataTable['output_type'] = 'display_data';\n",
              "        await google.colab.output.renderOutput(dataTable, element);\n",
              "        const docLink = document.createElement('div');\n",
              "        docLink.innerHTML = docLinkHtml;\n",
              "        element.appendChild(docLink);\n",
              "      }\n",
              "    </script>\n",
              "  </div>\n",
              "\n",
              "\n",
              "<div id=\"df-5280946c-0ebb-4567-929b-198db9f3404b\">\n",
              "  <button class=\"colab-df-quickchart\" onclick=\"quickchart('df-5280946c-0ebb-4567-929b-198db9f3404b')\"\n",
              "            title=\"Suggest charts.\"\n",
              "            style=\"display:none;\">\n",
              "\n",
              "<svg xmlns=\"http://www.w3.org/2000/svg\" height=\"24px\"viewBox=\"0 0 24 24\"\n",
              "     width=\"24px\">\n",
              "    <g>\n",
              "        <path d=\"M19 3H5c-1.1 0-2 .9-2 2v14c0 1.1.9 2 2 2h14c1.1 0 2-.9 2-2V5c0-1.1-.9-2-2-2zM9 17H7v-7h2v7zm4 0h-2V7h2v10zm4 0h-2v-4h2v4z\"/>\n",
              "    </g>\n",
              "</svg>\n",
              "  </button>\n",
              "\n",
              "<style>\n",
              "  .colab-df-quickchart {\n",
              "      --bg-color: #E8F0FE;\n",
              "      --fill-color: #1967D2;\n",
              "      --hover-bg-color: #E2EBFA;\n",
              "      --hover-fill-color: #174EA6;\n",
              "      --disabled-fill-color: #AAA;\n",
              "      --disabled-bg-color: #DDD;\n",
              "  }\n",
              "\n",
              "  [theme=dark] .colab-df-quickchart {\n",
              "      --bg-color: #3B4455;\n",
              "      --fill-color: #D2E3FC;\n",
              "      --hover-bg-color: #434B5C;\n",
              "      --hover-fill-color: #FFFFFF;\n",
              "      --disabled-bg-color: #3B4455;\n",
              "      --disabled-fill-color: #666;\n",
              "  }\n",
              "\n",
              "  .colab-df-quickchart {\n",
              "    background-color: var(--bg-color);\n",
              "    border: none;\n",
              "    border-radius: 50%;\n",
              "    cursor: pointer;\n",
              "    display: none;\n",
              "    fill: var(--fill-color);\n",
              "    height: 32px;\n",
              "    padding: 0;\n",
              "    width: 32px;\n",
              "  }\n",
              "\n",
              "  .colab-df-quickchart:hover {\n",
              "    background-color: var(--hover-bg-color);\n",
              "    box-shadow: 0 1px 2px rgba(60, 64, 67, 0.3), 0 1px 3px 1px rgba(60, 64, 67, 0.15);\n",
              "    fill: var(--button-hover-fill-color);\n",
              "  }\n",
              "\n",
              "  .colab-df-quickchart-complete:disabled,\n",
              "  .colab-df-quickchart-complete:disabled:hover {\n",
              "    background-color: var(--disabled-bg-color);\n",
              "    fill: var(--disabled-fill-color);\n",
              "    box-shadow: none;\n",
              "  }\n",
              "\n",
              "  .colab-df-spinner {\n",
              "    border: 2px solid var(--fill-color);\n",
              "    border-color: transparent;\n",
              "    border-bottom-color: var(--fill-color);\n",
              "    animation:\n",
              "      spin 1s steps(1) infinite;\n",
              "  }\n",
              "\n",
              "  @keyframes spin {\n",
              "    0% {\n",
              "      border-color: transparent;\n",
              "      border-bottom-color: var(--fill-color);\n",
              "      border-left-color: var(--fill-color);\n",
              "    }\n",
              "    20% {\n",
              "      border-color: transparent;\n",
              "      border-left-color: var(--fill-color);\n",
              "      border-top-color: var(--fill-color);\n",
              "    }\n",
              "    30% {\n",
              "      border-color: transparent;\n",
              "      border-left-color: var(--fill-color);\n",
              "      border-top-color: var(--fill-color);\n",
              "      border-right-color: var(--fill-color);\n",
              "    }\n",
              "    40% {\n",
              "      border-color: transparent;\n",
              "      border-right-color: var(--fill-color);\n",
              "      border-top-color: var(--fill-color);\n",
              "    }\n",
              "    60% {\n",
              "      border-color: transparent;\n",
              "      border-right-color: var(--fill-color);\n",
              "    }\n",
              "    80% {\n",
              "      border-color: transparent;\n",
              "      border-right-color: var(--fill-color);\n",
              "      border-bottom-color: var(--fill-color);\n",
              "    }\n",
              "    90% {\n",
              "      border-color: transparent;\n",
              "      border-bottom-color: var(--fill-color);\n",
              "    }\n",
              "  }\n",
              "</style>\n",
              "\n",
              "  <script>\n",
              "    async function quickchart(key) {\n",
              "      const quickchartButtonEl =\n",
              "        document.querySelector('#' + key + ' button');\n",
              "      quickchartButtonEl.disabled = true;  // To prevent multiple clicks.\n",
              "      quickchartButtonEl.classList.add('colab-df-spinner');\n",
              "      try {\n",
              "        const charts = await google.colab.kernel.invokeFunction(\n",
              "            'suggestCharts', [key], {});\n",
              "      } catch (error) {\n",
              "        console.error('Error during call to suggestCharts:', error);\n",
              "      }\n",
              "      quickchartButtonEl.classList.remove('colab-df-spinner');\n",
              "      quickchartButtonEl.classList.add('colab-df-quickchart-complete');\n",
              "    }\n",
              "    (() => {\n",
              "      let quickchartButtonEl =\n",
              "        document.querySelector('#df-5280946c-0ebb-4567-929b-198db9f3404b button');\n",
              "      quickchartButtonEl.style.display =\n",
              "        google.colab.kernel.accessAllowed ? 'block' : 'none';\n",
              "    })();\n",
              "  </script>\n",
              "</div>\n",
              "    </div>\n",
              "  </div>\n"
            ]
          },
          "metadata": {},
          "execution_count": 11
        }
      ]
    },
    {
      "cell_type": "markdown",
      "source": [
        "10. **(0.5pt)** Find the MSE on the test set for the best hyperparameter."
      ],
      "metadata": {
        "id": "MyTi_5m8DtyT"
      }
    },
    {
      "cell_type": "code",
      "source": [
        "from sklearn.neural_network import MLPRegressor\n",
        "mlp = MLPRegressor(early_stopping = True,\n",
        "                       random_state = 1234 ,\n",
        "                       solver = 'sgd',\n",
        "                       learning_rate = 'adaptive',\n",
        "                       alpha = 10,\n",
        "                       hidden_layer_sizes = (8,8,8,8))\n",
        "\n",
        "mlp.fit(X_train, y_train)\n",
        "mse_nn = mean_squared_error(y_test, mlp.predict(X_test))\n",
        "print(mse_nn)"
      ],
      "metadata": {
        "id": "uWnPvGhSD7DK",
        "colab": {
          "base_uri": "https://localhost:8080/"
        },
        "outputId": "6739173d-f565-44be-d9ac-3571c5b8a711"
      },
      "execution_count": null,
      "outputs": [
        {
          "output_type": "stream",
          "name": "stdout",
          "text": [
            "0.6922215355519573\n"
          ]
        }
      ]
    },
    {
      "cell_type": "markdown",
      "source": [
        "11. (0.5pt) What did you find out about the importance of the various hyperparameters?\n"
      ],
      "metadata": {
        "id": "1GM_SLECJFKZ"
      }
    },
    {
      "cell_type": "markdown",
      "source": [
        "**answer**\n",
        "\n",
        "I found out that larger models are not always better even if you increase regularization to prevent overfitting. Also, I observed that the constant learning rate and adaptive often found the same minimum when they had the same model. I had to remove the invscaling learning rate because it took too long to converge. Fine tuning these parameters takes time and can impact performance alot."
      ],
      "metadata": {
        "id": "O05aX8rhEAoS"
      }
    },
    {
      "cell_type": "markdown",
      "source": [
        "**Comparison**"
      ],
      "metadata": {
        "id": "IZcDfOFFEHGL"
      }
    },
    {
      "cell_type": "markdown",
      "source": [
        "12. **(0.5pt)** Based on the neural network that you trained, if you were to keep a single feature (that is a single word), which one would it be and why?"
      ],
      "metadata": {
        "id": "MH2wnwsRELRC"
      }
    },
    {
      "cell_type": "code",
      "source": [
        "!pip install eli5"
      ],
      "metadata": {
        "id": "PyRoRXUcy9S8",
        "colab": {
          "base_uri": "https://localhost:8080/"
        },
        "outputId": "1c5df0a3-9d90-4124-8b8f-c4aa77673c5d"
      },
      "execution_count": null,
      "outputs": [
        {
          "output_type": "stream",
          "name": "stdout",
          "text": [
            "Collecting eli5\n",
            "  Downloading eli5-0.13.0.tar.gz (216 kB)\n",
            "\u001b[?25l     \u001b[90m━━━━━━━━━━━━━━━━━━━━━━━━━━━━━━━━━━━━━━━━\u001b[0m \u001b[32m0.0/216.2 kB\u001b[0m \u001b[31m?\u001b[0m eta \u001b[36m-:--:--\u001b[0m\r\u001b[2K     \u001b[91m━━━━━━━━━━━━━━━━━━━━━━━━━\u001b[0m\u001b[91m╸\u001b[0m\u001b[90m━━━━━━━━━━━━━\u001b[0m \u001b[32m143.4/216.2 kB\u001b[0m \u001b[31m4.4 MB/s\u001b[0m eta \u001b[36m0:00:01\u001b[0m\r\u001b[2K     \u001b[90m━━━━━━━━━━━━━━━━━━━━━━━━━━━━━━━━━━━━━━━\u001b[0m \u001b[32m216.2/216.2 kB\u001b[0m \u001b[31m4.5 MB/s\u001b[0m eta \u001b[36m0:00:00\u001b[0m\n",
            "\u001b[?25h  Preparing metadata (setup.py) ... \u001b[?25l\u001b[?25hdone\n",
            "Requirement already satisfied: attrs>17.1.0 in /usr/local/lib/python3.10/dist-packages (from eli5) (23.1.0)\n",
            "Requirement already satisfied: jinja2>=3.0.0 in /usr/local/lib/python3.10/dist-packages (from eli5) (3.1.2)\n",
            "Requirement already satisfied: numpy>=1.9.0 in /usr/local/lib/python3.10/dist-packages (from eli5) (1.23.5)\n",
            "Requirement already satisfied: scipy in /usr/local/lib/python3.10/dist-packages (from eli5) (1.11.3)\n",
            "Requirement already satisfied: six in /usr/local/lib/python3.10/dist-packages (from eli5) (1.16.0)\n",
            "Requirement already satisfied: scikit-learn>=0.20 in /usr/local/lib/python3.10/dist-packages (from eli5) (1.2.2)\n",
            "Requirement already satisfied: graphviz in /usr/local/lib/python3.10/dist-packages (from eli5) (0.20.1)\n",
            "Requirement already satisfied: tabulate>=0.7.7 in /usr/local/lib/python3.10/dist-packages (from eli5) (0.9.0)\n",
            "Requirement already satisfied: MarkupSafe>=2.0 in /usr/local/lib/python3.10/dist-packages (from jinja2>=3.0.0->eli5) (2.1.3)\n",
            "Requirement already satisfied: joblib>=1.1.1 in /usr/local/lib/python3.10/dist-packages (from scikit-learn>=0.20->eli5) (1.3.2)\n",
            "Requirement already satisfied: threadpoolctl>=2.0.0 in /usr/local/lib/python3.10/dist-packages (from scikit-learn>=0.20->eli5) (3.2.0)\n",
            "Building wheels for collected packages: eli5\n",
            "  Building wheel for eli5 (setup.py) ... \u001b[?25l\u001b[?25hdone\n",
            "  Created wheel for eli5: filename=eli5-0.13.0-py2.py3-none-any.whl size=107719 sha256=6a33f5e02fc5ca95d45f8572d944ef7021c847798dcc7729328a01e754eed737\n",
            "  Stored in directory: /root/.cache/pip/wheels/b8/58/ef/2cf4c306898c2338d51540e0922c8e0d6028e07007085c0004\n",
            "Successfully built eli5\n",
            "Installing collected packages: eli5\n",
            "Successfully installed eli5-0.13.0\n"
          ]
        }
      ]
    },
    {
      "cell_type": "code",
      "source": [
        "import eli5\n",
        "from eli5.sklearn import PermutationImportance\n",
        "perm = PermutationImportance(mlp).fit(X_test.toarray(), y_test)\n",
        "eli5.show_weights(perm)"
      ],
      "metadata": {
        "colab": {
          "base_uri": "https://localhost:8080/",
          "height": 399
        },
        "id": "8bT3onZVyiwH",
        "outputId": "2cdffcbb-4154-4a0f-babd-5313ce952fe2"
      },
      "execution_count": null,
      "outputs": [
        {
          "output_type": "execute_result",
          "data": {
            "text/plain": [
              "<IPython.core.display.HTML object>"
            ],
            "text/html": [
              "\n",
              "    <style>\n",
              "    table.eli5-weights tr:hover {\n",
              "        filter: brightness(85%);\n",
              "    }\n",
              "</style>\n",
              "\n",
              "\n",
              "\n",
              "    \n",
              "\n",
              "    \n",
              "\n",
              "    \n",
              "\n",
              "    \n",
              "\n",
              "    \n",
              "\n",
              "    \n",
              "\n",
              "\n",
              "    \n",
              "\n",
              "    \n",
              "\n",
              "    \n",
              "\n",
              "    \n",
              "\n",
              "    \n",
              "\n",
              "    \n",
              "\n",
              "\n",
              "    \n",
              "\n",
              "    \n",
              "\n",
              "    \n",
              "\n",
              "    \n",
              "\n",
              "    \n",
              "        <table class=\"eli5-weights eli5-feature-importances\" style=\"border-collapse: collapse; border: none; margin-top: 0em; table-layout: auto;\">\n",
              "    <thead>\n",
              "    <tr style=\"border: none;\">\n",
              "        <th style=\"padding: 0 1em 0 0.5em; text-align: right; border: none;\">Weight</th>\n",
              "        <th style=\"padding: 0 0.5em 0 0.5em; text-align: left; border: none;\">Feature</th>\n",
              "    </tr>\n",
              "    </thead>\n",
              "    <tbody>\n",
              "    \n",
              "        <tr style=\"background-color: hsl(120, 100.00%, 80.00%); border: none;\">\n",
              "            <td style=\"padding: 0 1em 0 0.5em; text-align: right; border: none;\">\n",
              "                0.0299\n",
              "                \n",
              "                    &plusmn; 0.0151\n",
              "                \n",
              "            </td>\n",
              "            <td style=\"padding: 0 0.5em 0 0.5em; text-align: left; border: none;\">\n",
              "                x763\n",
              "            </td>\n",
              "        </tr>\n",
              "    \n",
              "        <tr style=\"background-color: hsl(120, 100.00%, 82.68%); border: none;\">\n",
              "            <td style=\"padding: 0 1em 0 0.5em; text-align: right; border: none;\">\n",
              "                0.0244\n",
              "                \n",
              "                    &plusmn; 0.0119\n",
              "                \n",
              "            </td>\n",
              "            <td style=\"padding: 0 0.5em 0 0.5em; text-align: left; border: none;\">\n",
              "                x1025\n",
              "            </td>\n",
              "        </tr>\n",
              "    \n",
              "        <tr style=\"background-color: hsl(120, 100.00%, 83.53%); border: none;\">\n",
              "            <td style=\"padding: 0 1em 0 0.5em; text-align: right; border: none;\">\n",
              "                0.0227\n",
              "                \n",
              "                    &plusmn; 0.0163\n",
              "                \n",
              "            </td>\n",
              "            <td style=\"padding: 0 0.5em 0 0.5em; text-align: left; border: none;\">\n",
              "                x1029\n",
              "            </td>\n",
              "        </tr>\n",
              "    \n",
              "        <tr style=\"background-color: hsl(120, 100.00%, 85.32%); border: none;\">\n",
              "            <td style=\"padding: 0 1em 0 0.5em; text-align: right; border: none;\">\n",
              "                0.0192\n",
              "                \n",
              "                    &plusmn; 0.0068\n",
              "                \n",
              "            </td>\n",
              "            <td style=\"padding: 0 0.5em 0 0.5em; text-align: left; border: none;\">\n",
              "                x479\n",
              "            </td>\n",
              "        </tr>\n",
              "    \n",
              "        <tr style=\"background-color: hsl(120, 100.00%, 87.00%); border: none;\">\n",
              "            <td style=\"padding: 0 1em 0 0.5em; text-align: right; border: none;\">\n",
              "                0.0162\n",
              "                \n",
              "                    &plusmn; 0.0112\n",
              "                \n",
              "            </td>\n",
              "            <td style=\"padding: 0 0.5em 0 0.5em; text-align: left; border: none;\">\n",
              "                x703\n",
              "            </td>\n",
              "        </tr>\n",
              "    \n",
              "        <tr style=\"background-color: hsl(120, 100.00%, 90.53%); border: none;\">\n",
              "            <td style=\"padding: 0 1em 0 0.5em; text-align: right; border: none;\">\n",
              "                0.0103\n",
              "                \n",
              "                    &plusmn; 0.0081\n",
              "                \n",
              "            </td>\n",
              "            <td style=\"padding: 0 0.5em 0 0.5em; text-align: left; border: none;\">\n",
              "                x822\n",
              "            </td>\n",
              "        </tr>\n",
              "    \n",
              "        <tr style=\"background-color: hsl(120, 100.00%, 91.92%); border: none;\">\n",
              "            <td style=\"padding: 0 1em 0 0.5em; text-align: right; border: none;\">\n",
              "                0.0082\n",
              "                \n",
              "                    &plusmn; 0.0076\n",
              "                \n",
              "            </td>\n",
              "            <td style=\"padding: 0 0.5em 0 0.5em; text-align: left; border: none;\">\n",
              "                x790\n",
              "            </td>\n",
              "        </tr>\n",
              "    \n",
              "        <tr style=\"background-color: hsl(120, 100.00%, 92.13%); border: none;\">\n",
              "            <td style=\"padding: 0 1em 0 0.5em; text-align: right; border: none;\">\n",
              "                0.0079\n",
              "                \n",
              "                    &plusmn; 0.0035\n",
              "                \n",
              "            </td>\n",
              "            <td style=\"padding: 0 0.5em 0 0.5em; text-align: left; border: none;\">\n",
              "                x1770\n",
              "            </td>\n",
              "        </tr>\n",
              "    \n",
              "        <tr style=\"background-color: hsl(120, 100.00%, 92.32%); border: none;\">\n",
              "            <td style=\"padding: 0 1em 0 0.5em; text-align: right; border: none;\">\n",
              "                0.0076\n",
              "                \n",
              "                    &plusmn; 0.0028\n",
              "                \n",
              "            </td>\n",
              "            <td style=\"padding: 0 0.5em 0 0.5em; text-align: left; border: none;\">\n",
              "                x168\n",
              "            </td>\n",
              "        </tr>\n",
              "    \n",
              "        <tr style=\"background-color: hsl(120, 100.00%, 92.48%); border: none;\">\n",
              "            <td style=\"padding: 0 1em 0 0.5em; text-align: right; border: none;\">\n",
              "                0.0074\n",
              "                \n",
              "                    &plusmn; 0.0086\n",
              "                \n",
              "            </td>\n",
              "            <td style=\"padding: 0 0.5em 0 0.5em; text-align: left; border: none;\">\n",
              "                x1243\n",
              "            </td>\n",
              "        </tr>\n",
              "    \n",
              "        <tr style=\"background-color: hsl(120, 100.00%, 92.76%); border: none;\">\n",
              "            <td style=\"padding: 0 1em 0 0.5em; text-align: right; border: none;\">\n",
              "                0.0070\n",
              "                \n",
              "                    &plusmn; 0.0033\n",
              "                \n",
              "            </td>\n",
              "            <td style=\"padding: 0 0.5em 0 0.5em; text-align: left; border: none;\">\n",
              "                x1066\n",
              "            </td>\n",
              "        </tr>\n",
              "    \n",
              "        <tr style=\"background-color: hsl(120, 100.00%, 92.97%); border: none;\">\n",
              "            <td style=\"padding: 0 1em 0 0.5em; text-align: right; border: none;\">\n",
              "                0.0067\n",
              "                \n",
              "                    &plusmn; 0.0043\n",
              "                \n",
              "            </td>\n",
              "            <td style=\"padding: 0 0.5em 0 0.5em; text-align: left; border: none;\">\n",
              "                x533\n",
              "            </td>\n",
              "        </tr>\n",
              "    \n",
              "        <tr style=\"background-color: hsl(120, 100.00%, 93.00%); border: none;\">\n",
              "            <td style=\"padding: 0 1em 0 0.5em; text-align: right; border: none;\">\n",
              "                0.0067\n",
              "                \n",
              "                    &plusmn; 0.0073\n",
              "                \n",
              "            </td>\n",
              "            <td style=\"padding: 0 0.5em 0 0.5em; text-align: left; border: none;\">\n",
              "                x1965\n",
              "            </td>\n",
              "        </tr>\n",
              "    \n",
              "        <tr style=\"background-color: hsl(120, 100.00%, 93.36%); border: none;\">\n",
              "            <td style=\"padding: 0 1em 0 0.5em; text-align: right; border: none;\">\n",
              "                0.0062\n",
              "                \n",
              "                    &plusmn; 0.0042\n",
              "                \n",
              "            </td>\n",
              "            <td style=\"padding: 0 0.5em 0 0.5em; text-align: left; border: none;\">\n",
              "                x470\n",
              "            </td>\n",
              "        </tr>\n",
              "    \n",
              "        <tr style=\"background-color: hsl(120, 100.00%, 93.44%); border: none;\">\n",
              "            <td style=\"padding: 0 1em 0 0.5em; text-align: right; border: none;\">\n",
              "                0.0061\n",
              "                \n",
              "                    &plusmn; 0.0029\n",
              "                \n",
              "            </td>\n",
              "            <td style=\"padding: 0 0.5em 0 0.5em; text-align: left; border: none;\">\n",
              "                x915\n",
              "            </td>\n",
              "        </tr>\n",
              "    \n",
              "        <tr style=\"background-color: hsl(120, 100.00%, 93.51%); border: none;\">\n",
              "            <td style=\"padding: 0 1em 0 0.5em; text-align: right; border: none;\">\n",
              "                0.0060\n",
              "                \n",
              "                    &plusmn; 0.0033\n",
              "                \n",
              "            </td>\n",
              "            <td style=\"padding: 0 0.5em 0 0.5em; text-align: left; border: none;\">\n",
              "                x989\n",
              "            </td>\n",
              "        </tr>\n",
              "    \n",
              "        <tr style=\"background-color: hsl(120, 100.00%, 93.84%); border: none;\">\n",
              "            <td style=\"padding: 0 1em 0 0.5em; text-align: right; border: none;\">\n",
              "                0.0056\n",
              "                \n",
              "                    &plusmn; 0.0023\n",
              "                \n",
              "            </td>\n",
              "            <td style=\"padding: 0 0.5em 0 0.5em; text-align: left; border: none;\">\n",
              "                x523\n",
              "            </td>\n",
              "        </tr>\n",
              "    \n",
              "        <tr style=\"background-color: hsl(120, 100.00%, 94.10%); border: none;\">\n",
              "            <td style=\"padding: 0 1em 0 0.5em; text-align: right; border: none;\">\n",
              "                0.0052\n",
              "                \n",
              "                    &plusmn; 0.0058\n",
              "                \n",
              "            </td>\n",
              "            <td style=\"padding: 0 0.5em 0 0.5em; text-align: left; border: none;\">\n",
              "                x497\n",
              "            </td>\n",
              "        </tr>\n",
              "    \n",
              "        <tr style=\"background-color: hsl(120, 100.00%, 94.10%); border: none;\">\n",
              "            <td style=\"padding: 0 1em 0 0.5em; text-align: right; border: none;\">\n",
              "                0.0052\n",
              "                \n",
              "                    &plusmn; 0.0038\n",
              "                \n",
              "            </td>\n",
              "            <td style=\"padding: 0 0.5em 0 0.5em; text-align: left; border: none;\">\n",
              "                x1583\n",
              "            </td>\n",
              "        </tr>\n",
              "    \n",
              "        <tr style=\"background-color: hsl(120, 100.00%, 94.18%); border: none;\">\n",
              "            <td style=\"padding: 0 1em 0 0.5em; text-align: right; border: none;\">\n",
              "                0.0051\n",
              "                \n",
              "                    &plusmn; 0.0018\n",
              "                \n",
              "            </td>\n",
              "            <td style=\"padding: 0 0.5em 0 0.5em; text-align: left; border: none;\">\n",
              "                x209\n",
              "            </td>\n",
              "        </tr>\n",
              "    \n",
              "    \n",
              "        \n",
              "            <tr style=\"background-color: hsl(120, 100.00%, 94.18%); border: none;\">\n",
              "                <td colspan=\"2\" style=\"padding: 0 0.5em 0 0.5em; text-align: center; border: none; white-space: nowrap;\">\n",
              "                    <i>&hellip; 1980 more &hellip;</i>\n",
              "                </td>\n",
              "            </tr>\n",
              "        \n",
              "    \n",
              "    </tbody>\n",
              "</table>\n",
              "    \n",
              "\n",
              "    \n",
              "\n",
              "\n",
              "    \n",
              "\n",
              "    \n",
              "\n",
              "    \n",
              "\n",
              "    \n",
              "\n",
              "    \n",
              "\n",
              "    \n",
              "\n",
              "\n",
              "\n"
            ]
          },
          "metadata": {},
          "execution_count": 15
        }
      ]
    },
    {
      "cell_type": "code",
      "source": [
        "feature_names = vectorizer.get_feature_names_out()\n",
        "feature_names[763]"
      ],
      "metadata": {
        "colab": {
          "base_uri": "https://localhost:8080/",
          "height": 35
        },
        "id": "hTFT1Ydh2Jdj",
        "outputId": "750d4cd4-b4ae-4d0b-d798-5ac65d1e364c"
      },
      "execution_count": null,
      "outputs": [
        {
          "output_type": "execute_result",
          "data": {
            "text/plain": [
              "'great'"
            ],
            "application/vnd.google.colaboratory.intrinsic+json": {
              "type": "string"
            }
          },
          "metadata": {},
          "execution_count": 16
        }
      ]
    },
    {
      "cell_type": "markdown",
      "source": [
        "**answer**\n",
        "\n",
        "Features permutations allows us to identify the most important feature in our model. This is done by replacing a feature data points by random noise in the test set and measuring the impact on the score of the model. This saves us the trouble of refitting the model each time. The most important feature found using this method is the word 'great'. This makes sense intuitively since it is a common word that is easily associated with the sentiment of the customer."
      ],
      "metadata": {
        "id": "1fgJW_rx3CWr"
      }
    },
    {
      "cell_type": "markdown",
      "source": [
        "13. **(0.5pt)** What is the final performance of each model (k-NN, and neural\n",
        "network)?"
      ],
      "metadata": {
        "id": "Be6u--CkETqq"
      }
    },
    {
      "cell_type": "code",
      "source": [
        "print(f'The performance of K-NN is :{mse_knn}')\n",
        "print(f'The performance of Neural Network is :{mse_nn}')"
      ],
      "metadata": {
        "id": "MmAg3d6pEGyk",
        "colab": {
          "base_uri": "https://localhost:8080/"
        },
        "outputId": "19d081e1-c6b4-44a0-e869-86d2ef552710"
      },
      "execution_count": null,
      "outputs": [
        {
          "output_type": "stream",
          "name": "stdout",
          "text": [
            "The performance of K-NN is :0.8495211999999999\n",
            "The performance of Neural Network is :0.6922215355519573\n"
          ]
        }
      ]
    },
    {
      "cell_type": "markdown",
      "source": [
        "14. **(1pt)** Find all the examples for which the prediction of the k-NN and the neural network differ by more than $2.0$."
      ],
      "metadata": {
        "id": "Gk-plRMnEjZl"
      }
    },
    {
      "cell_type": "code",
      "source": [
        "print('There is',sum(abs(mlp.predict(X_test)-knn.predict(X_test))>2), 'example where predictions differ by more than 2:\\n')\n",
        "test[abs(mlp.predict(X_test)-knn.predict(X_test))>2].loc[1125,'X']"
      ],
      "metadata": {
        "colab": {
          "base_uri": "https://localhost:8080/",
          "height": 174
        },
        "id": "gbEZVlA7WqaI",
        "outputId": "f768cfe2-c1a5-4208-8f9a-8b8ebd922abd"
      },
      "execution_count": null,
      "outputs": [
        {
          "output_type": "stream",
          "name": "stdout",
          "text": [
            "There is 1 example where predictions differ by more than 2:\n",
            "\n"
          ]
        },
        {
          "output_type": "execute_result",
          "data": {
            "text/plain": [
              "'I initially enjoyed playing this game due to the co-op nature and how intriguing/random it is but as I\\'ve played it more and more, I\\'ve begun to dislike it more and more.  There is so much happening with the game but the payoff is rarely worth it.  I\\'ll play it if my group is playing it but otherwise, I want nothing to do with it.Basic Play - You select a character, your choice or at random, and get all equipment/money they are entitled to.  Select a random Ancient One to battle.  You spend the rest of the game navigating the board looking for clues, buying items, getting skills/spells/allies, fighting enemies and going into portals to close/seal them.  Your character card has stats you can change at the beginning of every turn.  For example, you can increase your ability to move around the board faster but this decreases your ability to sneak past enemies.  You can increase your luck but this decreases your lore.  Each character has their own individual max/minimums for each stat, starting stuff, and special ability that makes them unique.  Almost everything you do in this game will be done with dice.  Rolling a 5 or 6 is a success while a 1-4 is a fail.  You might enter a room and have to make a luck check, so you\\'ll see what your character\\'s luck rating is and get that many dice to roll.  One 5 or 6 and you\\'re good but if you get none than you fail.  There are cards and other things that can modify your abilities.  Enemies require that you do all damage at once to kill them.  So if an enemy has 3 life and you get 2 hits, he takes no damage and hits you and next round you will have to get 3 hits still to kill it.  You can\\'t team up in combat with another player, even though this is a co-op game, to kill an enemy.  All battles are one on one, except the final battle, if it happens.  If you die at any point in the game, you simply re-spawn and lose half your items.  It is possible to be devoured, in which case your character is permanently dead and you select a new character and come back onto the board with all their starting stuff (it is often better to be devoured then killed).  There are a ton of locations to visit in the game, all of them have a set of 7 cards that you pick one from at random to see what happens to you.  Some locations have special text on them where you can choose to do what the text says rather than draw a random card, such as the item shops or medical areas.  All players will go and then at the end of every round, a portal gate will open, if possible, and bring out monsters, if possible, and make monsters move, if possible.  You win the game if you close all gates (certain restrictions apply), seal 6 or more gates (by using 5 clue tokens or a special item), or kill the ancient one if he awakens.  You lose if the ancient one awakens (which can happen multiple ways) and you fail to defeat him.Components - This game just has way too many pieces.  The board is huge, you will need a large table to play this on, especially if you get any of the expansions that make the board even larger.  The board itself is nice to look at and well made.  There are 16 large character cards and 8 ancient one cards to select from each game.  They look nice and have unique stories for each of the characters on the back.  There are 196 token pieces, 189 different cards your characters can acquire (split into 11 piles), 179 ancient one cards (split into 3 piles, the location pile will be split into 9 different piles), 60 monster tokens, 16 gate tokens and at least 30 more random tokens/markers/dice.  On the plus side, everything looks nice and it\\'s unlikely anything will get worn out or damaged.  On the negative side, you need a ton of room to place all this stuff, and then you need more room for each person playing the game.  Also, the cards your characters can acquire are the smaller, annoying, hard to shuffle style of cards (such as Ticket to Rides train car cards).  The rulebook is large and it is 24 pages.  It is somewhat rough to get through and you\\'ll have to check back multiple times during your first couple playthroughs, probably even in some later playthroughs.  There are no gameplay sheets to hand out to players, which you\\'ll want and need, so make sure you go online and find a friendly gameplay sheet to print out for players, you can find them at BoardGameGeek.  The insert for the game is ok.  I don\\'t think they provided any baggies so you\\'ll want to get some to put all the different pieces in.Length - This game takes a long time, especially your first couple playthroughs.  Expect setup to take you about 15-30 minutes since you have to select characters, enemies, distribute starting items/cash/skills/life/sanity/etc, then you have to shuffle each deck of cards, play a starting mythos card and place the gate and enemies.  The actual game itself will run at least 4 hours for your initial play-through.  It still regularly takes my group 2 1/2 - 3 hours to play a game.  I\\'m the guy that actually keeps the game moving because I want to get through it.  They tried playing it once without me and it took them over 5 hours because they couldn\\'t stay focused.Re-playability - This is one of the big positives of the game.  There is a lot of re-playability due to all the characters, ancients ones (that have various effects on monsters and gameplay), and just the random nature of the game.  Game win/loss conditions change depending on the number of players, along with how many monster spawns and other various rules.Luck - Almost everything you do in this game requires you to roll dice.  There is a ton of luck.  I\\'ve watched 11 dice come up with no successes and 3 dice get 3 successes.  Every location card you draw has something random happen at the location that could be good or bad.  You might have your lore skill maxed out (which leaves you with little to no luck) and draw a helpful/hurtful card that requires lore to pass.  Of course, you might draw a card that requires luck to pass and you don\\'t get to roll at all if you have no luck.  Also, most cards take a die or two away from whatever skill check you are making.  Monsters only move if the mythos card drawn at the end of each turn say so.  So if you go into a room and a monster blocks the exit, you have to either fight or sneak past.  Some monsters are extremely difficult to kill and some are difficult to sneak past, some have both.  So if one of those tough to sneak/fight monsters is blocking your room, enjoy being stuck in there for the next couple turns.  There are also random cards that just cause you to die/get devoured, so enjoy that as well.Interaction - There is surprisingly little interaction needed for this game.  You might give someone an item once a game or use a special power to help someone but for the most part, everyone just kind of does there own thing.  You can\\'t team up to fight monsters or close/seal gates.  Most of the interaction will just be game banter.Thoughts pros - Hard to think of a lot at this point.  There is a ton of theme.  Can play 1-8 players.  Components are all good quality and look nice.  A lot of things you can do, characters and bad guys to pick.  The co-operative aspect is nice, I guess.Thoughts cons - Can someone show me where the fun is?  It takes a while to slog thorough and is just way to random.  It\\'s rough to teach to new players, you\\'re better off just playing and hoping they pick up as they go along.  The rules are annoying to remember.  There are many rules that change depending on the number of people playing, so you have to look those up each game.  Even after many playthroughs, using cheat sheets, I\\'m pretty sure we still have a rule or two wrong.  The co-op aspect isn\\'t really used that often.  Occasionally someone will give an item away but most of the time it\\'s just spent deciding which gate someone is going to go into.  Everyone pretty much just does their own thing; and I\\'ve sat in one location for the majority of the game doing nothing and we still win most of the time.  I\\'ve also found that there is very little strategy required.  The game gives you all of these options but I\\'ve found it breaks down to 4 different things.  1.  If you have 5 clues or the item that seals a gate, go into a gate.  2.  If you can\\'t close a gate and have money, go to the special item store and try to buy the item that automatically seals a gate (I think there are 3 or 4 of them in the special item deck).  3. If you have no money, run around and pick up clues.  4.  If you have no money and there are no clues, just sit in a room where you have a good shot at earning clues/money.  For example, of the 7 cards for the newspaper location, some give you money with no rolling, some give a luck (-1) check for a clue and one gives you a lore (-1) check for 3 clues.  So you just sit in that room and earn money or clues and then use whatever you earned.  Using this strategy, I\\'ve only lost 2 of about 10+ we\\'ve played.  There have been a couple last turn thrillers where we won, but other than that, not much fun here.  There are some locations that have almost no purpose.  It is extremely rare that someone goes to the common item shop and buys a common item, or goes to the magic shop to buy magic, or goes to the skill area to buy a skill.  You\\'re better off just trying to draw the special item that lets you seal a gate.  Some location cards won\\'t be drawn because there is no purpose to going there, I\\'ve never seen anyone draw a location card for the hospital, magic shop, common item shop, church, boarding house or curiositie shoppe.  There is no reason to visit these spots outside of their special text options.  Certain mythos cards have text on them titled \"environment\" that cause effects that alter the game (all players get +1 luck/-1 lore, or no spells can be cast, etc) and these can be annoying to remember sometimes.  Combat also isn\\'t that interesting.  Most of the time, your character will fit one of two molds, decked out for combat or don\\'t bother fighting anything that has more than one life.  Also, enemies are very uneven, there only seem to be 2 difficulties, ridiculously easy or ridiculously hard.  There are very few that fall in between.  You\\'ll probably have one player who just runs around killing enemies.  Sometimes you\\'ll let yourself get killed or get devoured because it\\'s beneficial.  I shouldn\\'t get rewarded for dying.I wasn\\'t sure whether I wanted to give this a 3 or 2 stars, but what decided it for me was that I\\'ll enjoy playing a 3 star game once and a while, but this game, I just want it to be over as soon as possible.  I don\\'t like Pandemic, but I will play that over this any time.  This game just takes too long to setup (I\\'d rather setup Axis & Allies) and play for the little payoff it gives and there are too many cards/pieces.  I don\\'t mind longer games but there needs to be entertainment or a payoff in the gameplay and there is neither in this game.  The game isn\\'t hard, it\\'s just random.  Everything is too random and you\\'re at the mercy of the dice.  There is next to no strategy or thinking required, you just hope something random doesn\\'t happen to screw you.  There are too many fiddly rules and too many pieces to fiddle with, even some monsters have to be removed from the group of monsters because they\\'re only used if a specific ancient one is in play.  You\\'ve got to remember what special power the ancient one gives enemies plus environments and events.  People that love this game seem to love it for the theme.  I guess that\\'s ok, but for me, theme, presentation etc... mean very little if the core gameplay isn\\'t good.  I\\'d much rather play generic themed game with ugly looking components that has interesting/good gameplay than this game.  There is just nowhere near enough good things about this game to make up for the many negatives of the game.  I think I\\'d rather play Risk than this game.  At least I can spread myself thin in Risk and get killed to end the suffering, this just goes on and on.  I\\'m tired of playing this game, I\\'m either not going to play it from now on or just play my 3DS or read a book while playing, at least then I\\'ll feel like I\\'m doing something entertaining.  Overall, I have to give this game a 3/10.'"
            ],
            "application/vnd.google.colaboratory.intrinsic+json": {
              "type": "string"
            }
          },
          "metadata": {},
          "execution_count": 20
        }
      ]
    },
    {
      "cell_type": "markdown",
      "source": [
        "15. **(0.5pt)** Plot the distribution of the actual labels, and the predicted labels from k-NN and neural network."
      ],
      "metadata": {
        "id": "Nt3H62bnAK4p"
      }
    },
    {
      "cell_type": "code",
      "source": [
        "import matplotlib.pyplot as plt\n",
        "import seaborn as sns\n",
        "\n",
        "# actual labels\n",
        "sns.histplot(y_test, color='blue', alpha=0.5, label='Actual')\n",
        "\n",
        "# predicted labels\n",
        "sns.histplot(mlp.predict(X_test), color='red', alpha=0.5, label='MLP - Predicted')\n",
        "\n",
        "# predicted labels\n",
        "sns.histplot(knn.predict(X_test), color='green', alpha=0.5, label='k-NN - Predicted')\n",
        "\n",
        "plt.legend()\n",
        "plt.show()\n"
      ],
      "metadata": {
        "id": "uyNQm0vr_R7m",
        "colab": {
          "base_uri": "https://localhost:8080/",
          "height": 449
        },
        "outputId": "d6ca01ae-771a-4a01-a597-c86a274e99aa"
      },
      "execution_count": null,
      "outputs": [
        {
          "output_type": "display_data",
          "data": {
            "text/plain": [
              "<Figure size 640x480 with 1 Axes>"
            ],
            "image/png": "[encoded data removed]"
          },
          "metadata": {}
        }
      ]
    },
    {
      "cell_type": "markdown",
      "source": [
        "16. **(0.5pt)** Explain the reason behind the difference in prediction from k-NN and the actual labels."
      ],
      "metadata": {
        "id": "pbEk6v_YEtp0"
      }
    },
    {
      "cell_type": "markdown",
      "source": [
        "**answer**\n",
        "\n",
        "First of all, we used regression in a context where the y-label were classes therefore we would expect to see the predictions follow a continuous distribution and the actual label a discrete distribution. Thus, the difference in distribution is expected.\n",
        "\n",
        "Secondly, the dataset is higly skewed, there is a lot more of 4-5 ratings than 1-2. This will make our model less inclined to predict lower values. Hence why we do not have many prediction under 3 stars.\n",
        "\n",
        "Thirdly, each feature (words) have equal weight in knn. This may be a reason that explains the differences between the actual label and the prediction of the model. Indeed some words might have a better predictive power than others and should have a higher weight."
      ],
      "metadata": {
        "id": "Sa_1oscxApBi"
      }
    },
    {
      "cell_type": "markdown",
      "source": [
        "17. **(0.5pt)** Explain the reason behind the difference in prediction from the neural network and the actual labels."
      ],
      "metadata": {
        "id": "rqntOIfUAtrZ"
      }
    },
    {
      "cell_type": "markdown",
      "source": [
        "**answer**\n",
        "\n",
        "The two first reason given above also apply here.\n",
        "\n",
        "Furthermore outliers in the dataset can impact neural network in a negative way.\n",
        "\n",
        "Finaly, there is always randomness that cannot be captured by our model."
      ],
      "metadata": {
        "id": "yEb0QJlDA0sx"
      }
    },
    {
      "cell_type": "code",
      "source": [],
      "metadata": {
        "id": "C3jRLVbFhpxo"
      },
      "execution_count": null,
      "outputs": []
    }
  ]
}